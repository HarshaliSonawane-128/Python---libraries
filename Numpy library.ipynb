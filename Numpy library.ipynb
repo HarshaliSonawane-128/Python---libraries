{
 "cells": [
  {
   "cell_type": "markdown",
   "id": "401c3085",
   "metadata": {},
   "source": [
    "# Introduction \n",
    "Arry= it is orerd  collection of same data types of elements .\n",
    "data type in numpy= \n"
   ]
  },
  {
   "cell_type": "code",
   "execution_count": 2,
   "id": "81ac8b7c",
   "metadata": {},
   "outputs": [],
   "source": [
    "import numpy as np"
   ]
  },
  {
   "cell_type": "markdown",
   "id": "9c0ea5c6",
   "metadata": {},
   "source": [
    "#### creating numpay arrays \n",
    "\n",
    "syntax = np.array()\n",
    "note= for to create n-D array use ndmin() function\n",
    "\n",
    "#### Dimensions of array :\n",
    "\n",
    "   1) 0- D dimensions array /Scalars  = ex = 23,43\n",
    "   2) 1-D array /Vector = that has 0D array element in [] \n",
    "   3) 2-D array /Matrix = that has 1-D array element  \n",
    "         inlist[]used to represent matrix \n",
    "   4) 3-D array = that has 2-d arrays as its elemnts in list\n",
    "   5) Higher dimensionaliti shown by ndim fumction\n",
    "\n",
    "    \n",
    "#### properties of array  =  print(object.dtype)\n",
    "1) dtype = return type of ndarray\n",
    "2) size = return sice i.e number of element \n",
    "3) shape = return shape in terma of row and column \n",
    "4) ndim = return number of dimension of ndarray\n",
    "5) ndmin = make n-D array \n",
    "5) itemsize = check how much byte of memory consumed by array \n",
    "6) itemsiz* = check how much byte of memory consumed by array.  \n",
    " print(object.itemsize*object.size)\n",
    "    "
   ]
  },
  {
   "cell_type": "code",
   "execution_count": 7,
   "id": "6816a30f",
   "metadata": {},
   "outputs": [
    {
     "name": "stdout",
     "output_type": "stream",
     "text": [
      "[1 2 3]\n",
      "[[1 2 3]\n",
      " [4 5 6]]\n",
      "[[[1 2 3]\n",
      "  [4 5 6]]]\n",
      "[[[[[10 20 30]]]]]\n"
     ]
    }
   ],
   "source": [
    "#1-D array \n",
    "arr1 = np.array([1,2,3])\n",
    "print(arr1)\n",
    "\n",
    "#2D array \n",
    "arr2 = np.array([[1,2,3],[4,5,6]])\n",
    "print(arr2)\n",
    "\n",
    "# 3D array \n",
    "arr3 = np.array([[[1,2,3],[4,5,6]]])\n",
    "print(arr3)\n",
    "\n",
    "# higher dimensional array \n",
    "arr4 = np.array([10,20,30] ,ndmin = 5)\n",
    "print(arr4)\n"
   ]
  },
  {
   "cell_type": "code",
   "execution_count": 11,
   "id": "9d7a918c",
   "metadata": {},
   "outputs": [
    {
     "name": "stdout",
     "output_type": "stream",
     "text": [
      "[10 20 30]\n",
      "(3,)\n",
      "3\n",
      "int32\n",
      "1\n",
      "4\n",
      "12\n",
      "<class 'numpy.ndarray'>\n"
     ]
    }
   ],
   "source": [
    "#1-D array \n",
    "arr1 = np.array([10,20,30])\n",
    "print(arr1)\n",
    "print(arr1.shape)      #  (row ,column)\n",
    "print(arr1.size)\n",
    "print(arr1.dtype)\n",
    "print(arr1.ndim)\n",
    "print(arr1.itemsize)\n",
    "print(arr1.itemsize*arr1.size)\n",
    "print(type(arr1))"
   ]
  },
  {
   "cell_type": "code",
   "execution_count": 13,
   "id": "75d47b06",
   "metadata": {},
   "outputs": [
    {
     "name": "stdout",
     "output_type": "stream",
     "text": [
      "[[1 2 3]\n",
      " [4 5 6]]\n",
      "(2, 3)\n",
      "6\n",
      "int32\n",
      "2\n",
      "4\n",
      "24\n"
     ]
    }
   ],
   "source": [
    "# 2-D array \n",
    "\n",
    "arr2 = np.array([[1,2,3],[4,5,6]])\n",
    "print(arr2)\n",
    "print(arr2.shape)\n",
    "print(arr2.size)\n",
    "print(arr2.dtype)\n",
    "print(arr2.ndim)\n",
    "print(arr2.itemsize)\n",
    "print(arr2.itemsize*arr2.size)"
   ]
  },
  {
   "cell_type": "code",
   "execution_count": 17,
   "id": "0ebcb60e",
   "metadata": {},
   "outputs": [
    {
     "name": "stdout",
     "output_type": "stream",
     "text": [
      "[[[1 2 4]\n",
      "  [4 5 6]\n",
      "  [6 7 8]]]\n",
      "(1, 3, 3)\n",
      "9\n",
      "int32\n",
      "3\n",
      "4\n",
      "36\n",
      "<class 'numpy.ndarray'>\n"
     ]
    }
   ],
   "source": [
    "# 3-D array \n",
    "\n",
    "arr3 = np.array([[[1,2,4],[4,5,6],[6,7,8]]])\n",
    "print(arr3)\n",
    "print(arr3.shape)   # 1 matrix ,3=row ,3= column\n",
    "print(arr3.size)\n",
    "print(arr3.dtype)\n",
    "print(arr3.ndim)\n",
    "print(arr3.itemsize)\n",
    "print(arr3.itemsize*arr3.size)\n",
    "print(type(arr3))"
   ]
  },
  {
   "cell_type": "code",
   "execution_count": 20,
   "id": "e83ae02b",
   "metadata": {},
   "outputs": [
    {
     "name": "stdout",
     "output_type": "stream",
     "text": [
      "[[[[[1 2 3]\n",
      "    [4 5 6]]]]]\n",
      "(1, 1, 1, 2, 3)\n",
      "6\n",
      "int32\n",
      "5\n",
      "4\n",
      "24\n",
      "<class 'numpy.ndarray'>\n"
     ]
    }
   ],
   "source": [
    "# 5-d array \n",
    "\n",
    "arr4 = np.array([[[1,2,3],[4,5,6]]] , ndmin = 5)\n",
    "print(arr4)\n",
    "print(arr4.shape)   # expalin\n",
    "print(arr4.size)\n",
    "print(arr4.dtype)\n",
    "print(arr4.ndim)\n",
    "print(arr4.itemsize)\n",
    "print(arr4.itemsize*arr4.size)\n",
    "print(type(arr4))"
   ]
  },
  {
   "cell_type": "markdown",
   "id": "7209cd28",
   "metadata": {},
   "source": [
    "###  inbuilt NumPy functio \n",
    "\n",
    "#### 1) np.arange() = \n",
    "- function used to get evenly spaced values  within a  given interval.\n",
    "- 'syntax = np.arrange(start ,stop ,step)\n",
    "- star : [optional] start of interval range.\n",
    "          By default start = 0\n",
    "- stop: end of interval rangestep: [optional]\n",
    "-  step size of interval. By default step size = 1,\n",
    "- It creates an array of values starting                 from start and ending just before stop, with a     step size of step. The resulting array may not      include the stop value depending on the step size\n",
    "    \n",
    "#### 2) np.linesspace \n",
    "- create an array of evenly spaced values over a             specified range\n",
    "- write array of decimal elemnt but distance    between two elemnt is same \n",
    "- syntXax = np.linspace(start, stop, num)\n",
    "- numpy.linspace(start, stop, num = 50, endpoint = True, retstep = False, dtype = None)\n",
    "- np.llinespace = It generates an array of num                values evenly distributed between start and      stop,inclusive of both start and stop.\n",
    "- start: [optional] start of interval range. By default start = 0\n",
    "- stop: end of interval range\n",
    "- retstep: If True, return (samples, step). Bydefault retstep = False\n",
    "- num: [int, optional] No. of samples to generate - -- \n",
    "- dtype: type of output array\n",
    " \n",
    "###### Ddifference between np.arrange anf np.linespace \n",
    "-  np.arang It creates an array of values starting      from start and ending just before stop, with a        step size of step. The resulting array may not        include the stop value depending on the step size\n"
   ]
  },
  {
   "cell_type": "code",
   "execution_count": 3,
   "id": "849668fb",
   "metadata": {},
   "outputs": [
    {
     "name": "stdout",
     "output_type": "stream",
     "text": [
      "[0 2 4 6 8]\n",
      "[ 0.   2.5  5.   7.5 10. ]\n"
     ]
    }
   ],
   "source": [
    "arr1 = np.arange(0, 10, 2)  # Generates [0, 2, 4, 6, 8], exclu\n",
    "arr2 = np.linspace(0, 10, 5)  # Generates [0.0, 2.5, 5.0, 7.5, 10.0], include\n",
    "print(arr1)\n",
    "print(arr2)\n",
    "\n",
    "''''np.arange generates an array of values with a specified \n",
    "STEP size, while np.linspace generates an array with a \n",
    "specified number of evenly spaced values between the\n",
    "start and stop points.''' "
   ]
  },
  {
   "cell_type": "markdown",
   "id": "d582c0e2",
   "metadata": {},
   "source": [
    "####  3) np.zeroes ()\n",
    "- it is used to get print a new array of a given shape and type , filled with zeroes(0)\n",
    "- It allows you to specify the shape (dimensions) of the array you want, and you can also specify the data type of the elements in the array.\n",
    "\n",
    "syntax = np.zeroes(shape , dtype , order)\n",
    "default dtype is float\n",
    "\n",
    "shape ( row, colunm)\n",
    "dtype = dimension\n",
    "order = optional \n"
   ]
  },
  {
   "cell_type": "code",
   "execution_count": 13,
   "id": "fefcd680",
   "metadata": {},
   "outputs": [
    {
     "name": "stdout",
     "output_type": "stream",
     "text": [
      "[[0 0 0 0 0]\n",
      " [0 0 0 0 0]\n",
      " [0 0 0 0 0]]\n",
      "[0. 0. 0. 0. 0.]\n",
      "[[[0 0]\n",
      "  [0 0]\n",
      "  [0 0]]\n",
      "\n",
      " [[0 0]\n",
      "  [0 0]\n",
      "  [0 0]]]\n"
     ]
    }
   ],
   "source": [
    "arr3 = np.zeros((3,5),dtype = int)\n",
    "print (arr3)\n",
    "\n",
    "\n",
    "arr4 = np.zeros((5))\n",
    "print(arr4)\n",
    "\n",
    "arr5 = np.zeros((2,3,2),dtype = int)        # 2= matrice / layer\n",
    "print(arr5)                            # 3= row ,2 column "
   ]
  },
  {
   "cell_type": "markdown",
   "id": "fd9a85c7",
   "metadata": {},
   "source": [
    "#### 4) np.ones()\n",
    "-it is get a new aray of given shape andtype , filled with  ones(1)\n"
   ]
  },
  {
   "cell_type": "code",
   "execution_count": 12,
   "id": "5d834b1f",
   "metadata": {},
   "outputs": [
    {
     "name": "stdout",
     "output_type": "stream",
     "text": [
      "[1. 1. 1. 1. 1.]\n",
      "[[1. 1. 1. 1.]\n",
      " [1. 1. 1. 1.]]\n",
      "[[[1]\n",
      "  [1]\n",
      "  [1]]\n",
      "\n",
      " [[1]\n",
      "  [1]\n",
      "  [1]]\n",
      "\n",
      " [[1]\n",
      "  [1]\n",
      "  [1]]]\n"
     ]
    }
   ],
   "source": [
    "x = np.ones(5)\n",
    "print(x)\n",
    "\n",
    "y = np.ones((2,4))\n",
    "print(y)\n",
    "\n",
    "z= np.ones((2,3,1),dtype = int)\n",
    "print(z)\n"
   ]
  },
  {
   "cell_type": "markdown",
   "id": "3d1f1285",
   "metadata": {},
   "source": [
    "### Array Reshape and Shape\n",
    "- shape of arry = the shape of array is the number of elemnts in each dimensions\n",
    "\n",
    "\n",
    "#### get shape of array \n",
    "- numpay arrays have an atrribute called shape that return a tuple with each index having the number of corresponding elemnets\n",
    "- syntax = np.shape (array_name )\n",
    "- syntax = array .shape "
   ]
  },
  {
   "cell_type": "code",
   "execution_count": 15,
   "id": "ad1cdb4d",
   "metadata": {},
   "outputs": [
    {
     "name": "stdout",
     "output_type": "stream",
     "text": [
      "[[1 2 3]\n",
      " [4 5 6]]\n",
      "(2, 3)\n",
      "(2, 3)\n"
     ]
    }
   ],
   "source": [
    "arr = np.array([[1,2,3],[4,5,6]])\n",
    "print(arr)\n",
    "print(arr.shape)\n",
    "x = np.shape(arr)\n",
    "print(x)"
   ]
  },
  {
   "cell_type": "markdown",
   "id": "9bf935f6",
   "metadata": {},
   "source": [
    "#### Reshaping \n",
    "- it means changing the shape of an array.\n",
    "- by reshaping we can add or remove dimensions or change the number of elemnts in each dimension.\n",
    "- array can be reshaped into its product of its factor\n",
    "\n",
    "\n"
   ]
  },
  {
   "cell_type": "code",
   "execution_count": 12,
   "id": "a6bb00bd",
   "metadata": {},
   "outputs": [
    {
     "name": "stdout",
     "output_type": "stream",
     "text": [
      "(1, 6)\n",
      "6\n",
      "[[1 2 3]\n",
      " [4 5 6]]\n",
      "2\n",
      "[[[1 2 3]\n",
      "  [4 5 6]]]\n",
      "3\n",
      "[[[1]\n",
      "  [2]\n",
      "  [3]]\n",
      "\n",
      " [[4]\n",
      "  [5]\n",
      "  [6]]]\n",
      "3\n"
     ]
    }
   ],
   "source": [
    "import numpy as np\n",
    "arr = np.array([[1,2,3,4,5,6]])\n",
    "print(arr.shape)\n",
    "print(arr.size)    # factor of 6 = 1,2,3,6\n",
    "\n",
    "#reshape 1D= 2D\n",
    "A= np.array([arr]).reshape(2,3)\n",
    "print(A)\n",
    "print(A.ndim)\n",
    "\n",
    "#reshape 2D = 3D\n",
    "B = np.array([A]).reshape(1,2,3)\n",
    "print(B)\n",
    "print(B.ndim)\n",
    "\n",
    "C = np.array([arr]).reshape(2,3,1)\n",
    "print(C)\n",
    "print(C.ndim)\n"
   ]
  },
  {
   "cell_type": "code",
   "execution_count": 19,
   "id": "0deaf32a",
   "metadata": {},
   "outputs": [
    {
     "name": "stdout",
     "output_type": "stream",
     "text": [
      "[[1 2 3 4]\n",
      " [5 6 7 8]]\n",
      "2\n",
      "[[[1 2 3 4]\n",
      "  [5 6 7 8]]]\n",
      "3\n"
     ]
    }
   ],
   "source": [
    "# arrange with reshape \n",
    "\n",
    "#factor of 8 = 1,2,4,8\n",
    "\n",
    "arr = np.arange(1,9).reshape(2,4)\n",
    "print(arr)\n",
    "print(arr.ndim)\n",
    "\n",
    "arr = np.arange(1,9).reshape(1,2,4)\n",
    "print(arr)\n",
    "print(arr.ndim)"
   ]
  },
  {
   "cell_type": "markdown",
   "id": "bab94ca1",
   "metadata": {},
   "source": [
    "### Array Data type :\n",
    "- data type of numpay array is same throughout the array.\n",
    "- dtype of element in in numpay array is homogenous\n"
   ]
  },
  {
   "cell_type": "code",
   "execution_count": 23,
   "id": "1d751aba",
   "metadata": {},
   "outputs": [
    {
     "name": "stdout",
     "output_type": "stream",
     "text": [
      "[3.4 6.  5.  4. ]\n",
      "float64\n"
     ]
    }
   ],
   "source": [
    "a1 = np.array([3.4,6,5,4])\n",
    "print(a1)\n",
    "print(a1.dtype)   #due to folat 3.4 all elemnt convert into float ."
   ]
  },
  {
   "cell_type": "markdown",
   "id": "736419e6",
   "metadata": {},
   "source": [
    "### Bradcasting Of Array \n",
    "- The term broadcasting refers to the ability of NumPy to treat arrays of different shapes during arithmetic operations. \n",
    "- If two arrays are of exactly the same shape, then these operations are smoothly performed. In case of different dimensions,the smaller array is broadcast across the larger array so that they have compatible shapes\n",
    "- Broadcasting provide a means of vectorising array operations\n",
    "- it does this without making neddd copies of data usually lead efficient algorithm implementation.\n"
   ]
  },
  {
   "cell_type": "code",
   "execution_count": 25,
   "id": "e62ecdba",
   "metadata": {},
   "outputs": [
    {
     "name": "stdout",
     "output_type": "stream",
     "text": [
      "a =  [2 4 6] dimension : 1\n",
      "b =  2 dimension : 0\n",
      "c =  [ 4  8 12] dimension : 1\n"
     ]
    }
   ],
   "source": [
    "a = np.array([2,4,6])\n",
    "b= np.array (2)\n",
    "c= a*b\n",
    "print('a = ',a, 'dimension :',a.ndim)\n",
    "print('b = ',b,'dimension :',b.ndim)\n",
    "print('c = ',c, 'dimension :',c.ndim)"
   ]
  },
  {
   "cell_type": "code",
   "execution_count": 27,
   "id": "5301ffc3",
   "metadata": {},
   "outputs": [
    {
     "name": "stdout",
     "output_type": "stream",
     "text": [
      "a =  [[2 4 6]\n",
      " [6 8 9]] dimension : 2\n",
      "b =  [2 6 8] dimension : 1\n",
      "c =  [[ 4 24 48]\n",
      " [12 48 72]] dimension : 2\n"
     ]
    }
   ],
   "source": [
    "a = np.array([[2,4,6],[6,8,9]])\n",
    "b= np.array ([2,6,8])\n",
    "c= a*b\n",
    "print('a = ',a, 'dimension :',a.ndim)\n",
    "print('b = ',b,'dimension :',b.ndim)\n",
    "print('c = ',c, 'dimension :',c.ndim)"
   ]
  },
  {
   "cell_type": "markdown",
   "id": "deba852c",
   "metadata": {},
   "source": [
    "### View v/s Copy:\n",
    "\n",
    "#### copy :\n",
    "- the copy owns the data and any changes made to the copy will not affect origial array.and any change made to original array willnor affect the copy\n",
    "\n",
    "\n",
    "#### View :\n",
    "\n",
    "- The view does not own the data and any changes made to the view  will affect the original array and any changes made to the original array will affect the view.\n"
   ]
  },
  {
   "cell_type": "code",
   "execution_count": 31,
   "id": "117cbd5f",
   "metadata": {},
   "outputs": [
    {
     "name": "stdout",
     "output_type": "stream",
     "text": [
      "[1 2 3 5] [1 2 3 5]\n",
      "[50  2  3  5] [1 2 3 5]\n"
     ]
    }
   ],
   "source": [
    "# copy \n",
    "\n",
    "a1 = np.array([1,2,3,5])\n",
    "x= a1.copy()\n",
    "print(a1 , x)\n",
    "a1[0]= 50\n",
    "print(a1 , x)\n"
   ]
  },
  {
   "cell_type": "code",
   "execution_count": 37,
   "id": "e378dcd2",
   "metadata": {},
   "outputs": [
    {
     "name": "stdout",
     "output_type": "stream",
     "text": [
      "[1 2 3] [1 2 3]\n",
      "[42  2  3] [42  2  3]\n"
     ]
    }
   ],
   "source": [
    "# View \n",
    "\n",
    "arr = np.array([1, 2, 3])\n",
    "x = arr.view()\n",
    "print(arr , x)\n",
    "arr[0] = 42\n",
    "print(arr , x)"
   ]
  },
  {
   "cell_type": "markdown",
   "id": "6927097a",
   "metadata": {},
   "source": [
    "#### Numpy Random Number Generation\n",
    "- NumPy has the random module to work with random numbers.\n",
    "- Random numbers do not mean a different number everytime. \n",
    "- Random means something that can not be predicted logically\n",
    "- Genarate Random Array =  The randint() method takes a size parameter where you can specify the shape of an arry.\n",
    "\n",
    "\n"
   ]
  },
  {
   "cell_type": "code",
   "execution_count": 2,
   "id": "295dd9d3",
   "metadata": {},
   "outputs": [
    {
     "name": "stdout",
     "output_type": "stream",
     "text": [
      "15\n",
      "[0.69205207 0.7666252  0.02726782 0.09217333]\n",
      "[30 17 28]\n"
     ]
    }
   ],
   "source": [
    "# generate a random integer form 0 to 50 :\n",
    "from numpy import random\n",
    "x = random.randint(50)\n",
    "print(x)\n",
    "\n",
    "# generate a random float form 0 to 50 :\n",
    "x = random.rand(4)\n",
    "print(x)\n",
    "\n",
    "# generate random array =\n",
    "x = random.randint(50 , size = (3))     \n",
    "print(x)\n"
   ]
  },
  {
   "cell_type": "markdown",
   "id": "545a94b7",
   "metadata": {},
   "source": [
    "# Indexing and Slicing\n",
    "\n",
    "- indexing = access individual elemnt \n",
    "- slicing = accessing to part of array \n",
    "\n",
    "\n"
   ]
  },
  {
   "cell_type": "markdown",
   "id": "e7e80004",
   "metadata": {},
   "source": [
    "###  Numpy array indexing \n",
    "- Indexing means fetching an element at a particular index. \n",
    "- Array indexing is the same as accessing an array element.\n",
    "- You can access an array element by referring to it s index number.\n",
    "- An element at a particular index can be fetched by writing its corresponding indexin [] after the variable name in which the array is stored.\n",
    "- The indexes in NumPy arrays start with0, meaning that the first element has index 0,and the second has index 1 etc\n",
    "\n",
    "#### rule of indexing = dig\n",
    "\n",
    "###### positive indexing :\n",
    "- indexing start form left to right from 0 toward positive .\n",
    "- The indexes range from 0 to len(array)-1from left to right.\n",
    "###### negative indexing :\n",
    "- indexing start form R-L FROM -1 towars neggative.\n",
    "- the index range from -1 to -len(array) from R-L\n",
    "\n",
    "###### #Access 2-D Arrays\n",
    "- To access elements from 2-D arrays we can use comma separated integers representing the dimension and the index of the element.\n",
    "- syntax = array[dimension , index]\n",
    "\n",
    "###### Access 3-D Arrays\n",
    "- To access elements from 3-D arrays we can use comma separated integers representing the dimensions and the index of the element.\n",
    "- syntax = array[matrix ,dimension , index]\n",
    "\n",
    "### nampy array slicing \n",
    "- Slicing in python means taking elements from one given index to another given index. \n",
    "- We pass slice instead of an index like this:[start:end].\n",
    "- We can also define the step, as: [start:end:step].\n",
    "- If we don't pass start its considered 0\n",
    "- If we don't pass end its considered length of array in that dimension\n",
    "- If we don't pass step its considered 1\n",
    "- :index = slicing elemnt before index\n",
    "- index:  = slicing elemnt after index\n",
    "\n",
    "#### rule of s;icing \n",
    "\n",
    "##### Left to Right slicing\n",
    "- Step size has to be a positive number. \n",
    "- Slicing is performed till index end-1 if end is mentioned, otherwise till right end.\n",
    "- If start is not mentioned, then its default value is 0 (if slicing direction is from left to right).\n",
    "##### Right to Left slicing -\n",
    "- Step size has to be a negative number. Step has to be explicitly mentioned while performing right to left slicing \n",
    "- Slicing is performed till index end+1 if end is mentioned, otherwise till left end.\n",
    "- Use the minus operator to refer to an index from the end\n",
    "\n",
    "###### Slicing 2-D Arrays = dig \n",
    "- Syntax = array_name[start_row : end_row : step_row , start_col : end_col :step_col]\n",
    "- step represent by ::\n",
    "- In rows\n",
    "- a) Left to Right traversal is equivalent to Top to bottom traversal\n",
    "- b) Right to Left traversal is equivalent to Bottom to Top traversal3\n",
    "\n",
    "- Rows are represented horizontally \n",
    "- Columns arerepresented vertically\n",
    "1) Top to bottom we have positive rows indexes\n",
    "2) Bottom to Top we have negative rows indexes\n",
    "3) Left to Right we have positive column indexes\n",
    "3) Right to Left we have negative column indexes"
   ]
  },
  {
   "cell_type": "code",
   "execution_count": 4,
   "id": "dd30467a",
   "metadata": {},
   "outputs": [
    {
     "name": "stdout",
     "output_type": "stream",
     "text": [
      "[1 2 3 4 5 6 7]\n",
      "6\n",
      "7\n",
      "[1 3]\n",
      "[7 5]\n",
      "[4 5]\n",
      "[1 2 3 4]\n",
      "[5 6 7]\n",
      "[1 2 3 4 5]\n",
      "[6 7]\n",
      "1\n"
     ]
    }
   ],
   "source": [
    "# 1-D indeing and slicing \n",
    "import numpy as np\n",
    "arr1 = np.array([1,2,3,4,5,6,7])\n",
    "print(arr1)\n",
    "print(arr1[5])\n",
    "print(arr1[-1])\n",
    "print(arr1[0:4:2])\n",
    "print(arr1[-1:-4:-2])\n",
    "print(arr1[3:-2])\n",
    "print(arr1[:4])\n",
    "print(arr1[4:])\n",
    "print(arr1[:-2])\n",
    "print(arr1[-2:])\n",
    "print(arr1.ndim)"
   ]
  },
  {
   "cell_type": "code",
   "execution_count": 100,
   "id": "3a7dfa42",
   "metadata": {},
   "outputs": [
    {
     "name": "stdout",
     "output_type": "stream",
     "text": [
      "[[ 1  2  3  4]\n",
      " [ 5  6  7  8]\n",
      " [ 9 10 11 12]]\n",
      "7\n",
      "12\n",
      "8\n",
      "[5 6 7 8]\n",
      "[5 6 7 8]\n"
     ]
    }
   ],
   "source": [
    "# 2-D indexing \n",
    "\n",
    "arr2 = np.array([[1,2,3,4],[5,6,7,8],[9,10,11,12]])\n",
    "print(arr2)\n",
    "print(arr2[1,2]) \n",
    "print(arr2[-1,3])\n",
    "print(arr2[-2,-1])\n",
    "print(arr2[1])\n",
    "print(arr2[-2])\n",
    "\n",
    "\n"
   ]
  },
  {
   "cell_type": "code",
   "execution_count": 97,
   "id": "748efa09",
   "metadata": {},
   "outputs": [
    {
     "name": "stdout",
     "output_type": "stream",
     "text": [
      "[[31 32 33 34]\n",
      " [35 36 37 38]\n",
      " [39 40 41 42]\n",
      " [43 44 45 46]]\n",
      "[31 32 33 34]\n",
      "[40 41 42]\n",
      "[46 42 38]\n",
      "[31 36 41 46]\n",
      "[43 40 37 34]\n",
      "[35 40 45]\n"
     ]
    }
   ],
   "source": [
    "# ADVANCE 2-D indexing\n",
    "\n",
    "arr2 = np.array([[31,32,33,34],[35,36,37,38],[39,40,41,42],[43,44,45,46]])\n",
    "print(arr2)\n",
    "print(arr2[[0],[0,1,2,3]])\n",
    "print(arr2[[-2],[1,2,3]])\n",
    "print(arr2[[-1,-2,-3],[-1]])\n",
    "print(arr2[[0,1,2,3],[0,1,2,3]])\n",
    "print(arr2[[3,2,1,0],[-4,-3,-2,-1]])\n",
    "print(arr2[[1,2,3],[0,1,2]])"
   ]
  },
  {
   "cell_type": "code",
   "execution_count": 5,
   "id": "9729c6ae",
   "metadata": {},
   "outputs": [
    {
     "name": "stdout",
     "output_type": "stream",
     "text": [
      "[[1 2 3 4]]\n",
      "[[ 5  6  7  8]\n",
      " [ 9 10 11 12]]\n",
      "[[1 2 3 4]]\n",
      "[[ 5  6  7  8]\n",
      " [ 9 10 11 12]]\n",
      "[[ 7  8]\n",
      " [11 12]]\n",
      "[[7]]\n",
      "[ 7 11]\n",
      "[[ 1  4]\n",
      " [ 9 12]]\n",
      "[[12  9]]\n"
     ]
    }
   ],
   "source": [
    "#Syntax = array_name[start_row : end_row : step_row , start_col : end_col :step_col]\n",
    "\n",
    "arr2 = np.array([[1,2,3,4],[5,6,7,8],[9,10,11,12]])\n",
    "#print(arr2)\n",
    "print(arr2[:1])\n",
    "print(arr2[1:])\n",
    "print(arr2[:-2])\n",
    "print(arr2[-2:])\n",
    "print(arr2[1: , 2:])\n",
    "print(arr2[1:2 , 2:3])\n",
    "\n",
    "print(arr2[1:,2])    \n",
    "\n",
    "print(arr2[0::2,0::3])\n",
    "print(arr2[-1::-3,-1::-3])"
   ]
  },
  {
   "cell_type": "markdown",
   "id": "e1a6f613",
   "metadata": {},
   "source": [
    "# Numpay array operation "
   ]
  },
  {
   "cell_type": "markdown",
   "id": "9a7e2952",
   "metadata": {},
   "source": [
    "#### sum :\n",
    "- it is used for calculating the sum of all elements, the sum of each row,and the sum of each column of a given array\n",
    "###### syntax :=  (arr ,axis ,dtype ,out)\n",
    "- arr: input array\n",
    "- axis : axis along which we want to calculate the sum value.\n",
    "- axis=0 means along the column \n",
    "- and axis = 1 means working along the row\n",
    "- out: = Different array in which we want to place the result.The array must have the same dimensions as expected output. Default is None"
   ]
  },
  {
   "cell_type": "code",
   "execution_count": 10,
   "id": "f32d4d9f",
   "metadata": {},
   "outputs": [
    {
     "name": "stdout",
     "output_type": "stream",
     "text": [
      "6\n",
      "[ 7 12 14]\n",
      "[ 6 15 12]\n",
      "33\n"
     ]
    }
   ],
   "source": [
    "import numpy as np \n",
    "\n",
    "# 1-D\n",
    "a = np.array([1,2,3])\n",
    "b = np.sum(a)\n",
    "print(b)\n",
    "\n",
    "# 2-D\n",
    "a = np.array([[1,2,3],[4,6,5],[2,4,6]])\n",
    "b = a.sum(axis=0)\n",
    "c = a.sum(axis = 1)\n",
    "d = a.sum()\n",
    "print(b)\n",
    "print(c)\n",
    "print(d)"
   ]
  },
  {
   "cell_type": "markdown",
   "id": "c9e4567e",
   "metadata": {},
   "source": [
    "### sort = \n",
    "- It means sorting or arranging the array in an ordered sequence\n",
    "- for desending use = [::-1]"
   ]
  },
  {
   "cell_type": "code",
   "execution_count": 16,
   "id": "4ffcc7d2",
   "metadata": {},
   "outputs": [
    {
     "name": "stdout",
     "output_type": "stream",
     "text": [
      "[9 6 5 4 3 1]\n",
      "[[1 4 3]\n",
      " [2 7 4]]\n",
      "[[1 3 4]\n",
      " [2 4 7]]\n",
      "[[[1 4 2]\n",
      "  [7 4 9]\n",
      "  [4 2 7]]]\n",
      "[[[1 2 2]\n",
      "  [4 4 7]\n",
      "  [7 4 9]]]\n"
     ]
    }
   ],
   "source": [
    "# 1-D\n",
    "A = np.array ([1,9,3,6,4,5])\n",
    "b = np.sort(A)\n",
    "b = np.sort(A)[::-1]   # desending\n",
    "print(b)\n",
    "\n",
    "# 2-D\n",
    "A = np.array([[1,4,3],[2,7,4]])\n",
    "b= np.sort(A ,axis = 0)\n",
    "c= np.sort(A ,axis = 1)\n",
    "print(b)\n",
    "print(c)\n",
    "\n",
    "# 3-D\n",
    "\n",
    "A = np.array([[[1,4,2],[7,4,9],[4,2,7]]]) \n",
    "b= np.sort(A ,axis = 0)    #[::-1]\n",
    "c= np.sort(A ,axis = 1)    \n",
    "print(b)\n",
    "print(c)"
   ]
  },
  {
   "cell_type": "markdown",
   "id": "dd2ffa41",
   "metadata": {},
   "source": [
    "### min() and max() \n",
    "- np.min(): Returns minimum value for a numpy array along an axis\n",
    "- np.max(): Returns maximum value for a numpy array along an axis\n",
    "    "
   ]
  },
  {
   "cell_type": "code",
   "execution_count": 21,
   "id": "2cac694a",
   "metadata": {},
   "outputs": [
    {
     "name": "stdout",
     "output_type": "stream",
     "text": [
      "[1 5 4]\n",
      "[1 5]\n",
      "[9 7 8]\n",
      "[7 9]\n",
      "9\n",
      "1\n"
     ]
    }
   ],
   "source": [
    "a = np.array([[1,7,4],[9,5,8]])\n",
    "print(np.min(a,axis = 0))\n",
    "print(np.min(a,axis = 1))\n",
    "print(np.max(a,axis =0))\n",
    "print(np.max(a,axis= 1))\n",
    "print(np.max(a))\n",
    "print(np.min(a))"
   ]
  },
  {
   "cell_type": "markdown",
   "id": "a836f5f2",
   "metadata": {},
   "source": [
    "### argmax() and argmin()\n",
    "\n",
    "##### np.argmax(): \n",
    "- Returns the indices of the maximum values along an axis\n",
    "##### np.argmin() : \n",
    "- Returns the indices of the minimum values along an axis"
   ]
  },
  {
   "cell_type": "code",
   "execution_count": 22,
   "id": "bf0ec9d7",
   "metadata": {},
   "outputs": [
    {
     "name": "stdout",
     "output_type": "stream",
     "text": [
      "[0 1 0]\n",
      "[0 1]\n",
      "[1 0 1]\n",
      "[1 0]\n",
      "3\n",
      "0\n"
     ]
    }
   ],
   "source": [
    "a = np.array([[1,7,4],[9,5,8]])\n",
    "print(np.argmin(a,axis = 0))\n",
    "print(np.argmin(a,axis = 1))\n",
    "print(np.argmax(a,axis =0))\n",
    "print(np.argmax(a,axis= 1))\n",
    "print(np.argmax(a))\n",
    "print(np.argmin(a))"
   ]
  },
  {
   "cell_type": "markdown",
   "id": "b3d8f320",
   "metadata": {},
   "source": [
    "### np. where()\n",
    "- return index position of for matching condition.\n",
    "- The function returns the indices of elements in an input array where the given condition is satisfied.\n",
    "\n"
   ]
  },
  {
   "cell_type": "code",
   "execution_count": 32,
   "id": "d6051da1",
   "metadata": {},
   "outputs": [
    {
     "name": "stdout",
     "output_type": "stream",
     "text": [
      "[12 45 65 34 98 44 87 66]\n",
      "(array([0, 3, 4, 5, 7], dtype=int64),)\n",
      "[12 34 98 44 66]\n"
     ]
    }
   ],
   "source": [
    "arr = np.array([12,45,65,34,98,44,87,66])\n",
    "print(arr)\n",
    "print(np.where(arr%2==0))  # return index position\n",
    "print(arr[np.where(arr%2==0)])  # return elemnt"
   ]
  },
  {
   "cell_type": "markdown",
   "id": "a6c10ab5",
   "metadata": {},
   "source": [
    "### extract() :\n",
    "- the np.extract function returns elemnts of input_array if they satisfy some specified condition\n",
    "- directly returns the value on which condition are applied ,using the second parameter as array name.\n",
    "\n",
    "- syntax : np.extract(condition ,array)"
   ]
  },
  {
   "cell_type": "code",
   "execution_count": 37,
   "id": "7159f674",
   "metadata": {},
   "outputs": [
    {
     "name": "stdout",
     "output_type": "stream",
     "text": [
      "[[1 4 3]\n",
      " [7 3 5]]\n",
      "[7 5]\n",
      "[1 3 7 3 5]\n"
     ]
    }
   ],
   "source": [
    "arr = np.array([[1,4,3],[7,3,5]])\n",
    "print(a)\n",
    "print(np.extract(arr >4 ,arr))  # print element\n",
    "print(np.extract(arr%2 != 0 ,arr))"
   ]
  },
  {
   "cell_type": "markdown",
   "id": "0af43239",
   "metadata": {},
   "source": [
    "### np.searchsorted()\n",
    "- Performing binary arrY AND returns the index where specified valliues insted to maintain search oreder "
   ]
  },
  {
   "cell_type": "code",
   "execution_count": 38,
   "id": "dbebd3ac",
   "metadata": {},
   "outputs": [
    {
     "name": "stdout",
     "output_type": "stream",
     "text": [
      "1\n",
      "2\n",
      "[1 2 3]\n"
     ]
    }
   ],
   "source": [
    "arr = np.array([6,7,8,9])\n",
    "\n",
    "# search left and return the first index where elemnt\n",
    "\n",
    "x = np.searchsorted(arr ,7)\n",
    "print(x)\n",
    "\n",
    "# search from the right side \n",
    "x= np.searchsorted(arr , 7 ,side = 'right')\n",
    "print(x)\n",
    "\n",
    "\n",
    "# multiple values - find index\n",
    "x = np.searchsorted(arr , [7,8,9])\n",
    "print(x)"
   ]
  },
  {
   "cell_type": "markdown",
   "id": "0d41e97c",
   "metadata": {},
   "source": [
    " ### concatenate()\n",
    " - It joins a sequence of arrays along an existing axip.co\n",
    " \n",
    " - concatenatination accorrding to column wise= both array dimesion will required same insted and same column size.\n",
    " - incase row wise = both array dimesion will same and required same row size\n",
    " - syntax = np.concatenate([arr1,arr2],axis)\n",
    "- syntax main agar two array return in [ ] = 0-d/list\n",
    "-  ----------------||------------------[[  ]] = 1-D\n",
    " - ---------------||-----------------[[[  ]]] = 2-D\n",
    " "
   ]
  },
  {
   "cell_type": "code",
   "execution_count": 42,
   "id": "a3643c01",
   "metadata": {},
   "outputs": [
    {
     "name": "stdout",
     "output_type": "stream",
     "text": [
      "[[1 2 3]\n",
      " [4 5 6]\n",
      " [7 8 9]]\n"
     ]
    }
   ],
   "source": [
    "a = np.array([[1,2,3]])\n",
    "b =np.array([[4,5,6],[7,8,9]])\n",
    "c = np.concatenate([a,b],axis = 0)\n",
    "print(c)\n",
    "#d= np.concatenate([a,b],axis = 1)   ## error becuase both array does not have same row size\n",
    "#print(d)"
   ]
  },
  {
   "cell_type": "code",
   "execution_count": 43,
   "id": "a4220c4c",
   "metadata": {},
   "outputs": [
    {
     "name": "stdout",
     "output_type": "stream",
     "text": [
      "[[1 2]\n",
      " [3 4]\n",
      " [5 6]\n",
      " [7 8]]\n",
      "[[1 2 5 6]\n",
      " [3 4 7 8]]\n"
     ]
    }
   ],
   "source": [
    "a= np.array = ([[1,2],[3,4]])\n",
    "b = np.array = ([[5,6],[7,8]])\n",
    "\n",
    "print(np.concatenate([a,b],axis = 0))\n",
    "print(np.concatenate([a,b],axis = 1))"
   ]
  },
  {
   "cell_type": "code",
   "execution_count": 51,
   "id": "c33e5970",
   "metadata": {},
   "outputs": [
    {
     "name": "stdout",
     "output_type": "stream",
     "text": [
      "[[1 2 3]\n",
      " [4 5 6]]\n"
     ]
    }
   ],
   "source": [
    "a= np.array = ([1,2,3])\n",
    "b = np.array = ([4,5,6])\n",
    "c= np.concatenate([[a,b]])\n",
    "print(c)"
   ]
  },
  {
   "cell_type": "markdown",
   "id": "43e8218c",
   "metadata": {},
   "source": [
    "### vstack()\n",
    "- function is used to stack the sequence of input arrays vertically to make a single array\n",
    "- i.e row wise"
   ]
  },
  {
   "cell_type": "code",
   "execution_count": 8,
   "id": "03d7bdb6",
   "metadata": {},
   "outputs": [
    {
     "name": "stdout",
     "output_type": "stream",
     "text": [
      "[[1 2]\n",
      " [4 5]\n",
      " [6 7]\n",
      " [8 9]]\n",
      "[[6 7]\n",
      " [8 9]\n",
      " [1 2]\n",
      " [4 5]]\n"
     ]
    }
   ],
   "source": [
    "import numpy as np\n",
    "a = np.array([[1,2],[4,5]])\n",
    "b = np.array([[6,7],[8,9]])\n",
    "e = np.vstack((a,b))\n",
    "print(e)\n",
    "f = np.vstack((b,a))\n",
    "print(f)"
   ]
  },
  {
   "cell_type": "markdown",
   "id": "186f24cd",
   "metadata": {},
   "source": [
    "### hstack()\n",
    "- thse function is used to stack the sequence of input arrays horizontally (i.e column wise) to make a single array.\n"
   ]
  },
  {
   "cell_type": "code",
   "execution_count": 4,
   "id": "bdf13438",
   "metadata": {},
   "outputs": [
    {
     "name": "stdout",
     "output_type": "stream",
     "text": [
      "[[1 7 4 4 6 5]\n",
      " [2 9 8 9 7 3]]\n"
     ]
    }
   ],
   "source": [
    "\n",
    "a = np.array([[1,7,4],[2,9,8]])\n",
    "b= np.array([[4,6,5],[9,7,3]])\n",
    "c = np.hstack((a,b))\n",
    "print(c)"
   ]
  },
  {
   "cell_type": "markdown",
   "id": "ec23bfee",
   "metadata": {},
   "source": [
    "### vsplit() \n",
    "- The function splits an array into multiple sub-arrays vertically (row-wise).\n",
    "### hsplit() \n",
    "- The function splits an array into multiple sub-arrays horizontally (column-wise)"
   ]
  },
  {
   "cell_type": "code",
   "execution_count": 11,
   "id": "313b8bf5",
   "metadata": {},
   "outputs": [
    {
     "name": "stdout",
     "output_type": "stream",
     "text": [
      "[array([[1],\n",
      "       [4]]), array([[2],\n",
      "       [5]]), array([[3],\n",
      "       [6]])]\n"
     ]
    }
   ],
   "source": [
    "a = np.array([[1,2,3],[4,5,6]])\n",
    "b = np.hsplit(a,3)      # eithe 2 ghetlyavr error yeil karn alredy 2 row ahet\n",
    "print(b)"
   ]
  },
  {
   "cell_type": "code",
   "execution_count": 13,
   "id": "dfc23066",
   "metadata": {},
   "outputs": [
    {
     "name": "stdout",
     "output_type": "stream",
     "text": [
      "[array([[1, 2, 3]]), array([[4, 5, 6]])]\n"
     ]
    }
   ],
   "source": [
    "a = np.array([[1,2,3],[4,5,6]])\n",
    "b = np.vsplit(a,2)      # eithe 3 ghetlyavr error yeil karn alredy 3column ahet\n",
    "print(b)"
   ]
  },
  {
   "cell_type": "markdown",
   "id": "04e5331f",
   "metadata": {},
   "source": [
    "###  numpy array iterating \n",
    "- by for loop and \n",
    "- nditer()  = by using thse function we directly iterate elemnt inn2-D and  3-D \n",
    "   arry .not 1-D\n",
    "- ndenumerator() = get corresponding index of elemnt while iterating "
   ]
  },
  {
   "cell_type": "code",
   "execution_count": 15,
   "id": "84a1f2a2",
   "metadata": {},
   "outputs": [
    {
     "name": "stdout",
     "output_type": "stream",
     "text": [
      "12345"
     ]
    }
   ],
   "source": [
    "A = np.array([1,2,3,4,5])\n",
    "for i in A:\n",
    "    print(i,end = '')"
   ]
  },
  {
   "cell_type": "code",
   "execution_count": 28,
   "id": "277dd7ec",
   "metadata": {},
   "outputs": [
    {
     "name": "stdout",
     "output_type": "stream",
     "text": [
      "[1 2 3]\n",
      "[4 5 6]\n",
      "1 2 3 4 5 6 1\n",
      "3\n",
      "4\n",
      "6\n",
      "((0, 0), 1)\n",
      "((0, 1), 2)\n",
      "((0, 2), 3)\n",
      "((1, 0), 4)\n",
      "((1, 1), 5)\n",
      "((1, 2), 6)\n"
     ]
    }
   ],
   "source": [
    "A = np.array([[1,2,3],[4,5,6]])\n",
    "for i in A:\n",
    "    print(i)                          # iterate no row\n",
    "    \n",
    "for i in np.nditer(A):\n",
    "    print(i,end = ' ')               # iteerate elemnts presnt in array\n",
    "    \n",
    "for i in np.nditer(A[:,::2]):       \n",
    "    print(i)                          # iteateelemt with step size 2\n",
    "    \n",
    "for i in np.ndenumerate(A):\n",
    "    print(i)                          # iterate elemnt with there index position"
   ]
  },
  {
   "cell_type": "markdown",
   "id": "d6e00d82",
   "metadata": {},
   "source": [
    "### numpy array filter \n",
    "- getting some elemnt out of an existing array and creating a new array out of them is called array filtering\n",
    "- in numpy , we filtre array using a boolean index list \n",
    "- if value at an index is true that elemnt is contained in filtered array.\n",
    "- if the value at the index is false the elemnt is excluded from filtere array "
   ]
  },
  {
   "cell_type": "code",
   "execution_count": 30,
   "id": "0337f618",
   "metadata": {},
   "outputs": [
    {
     "name": "stdout",
     "output_type": "stream",
     "text": [
      "[41 43]\n"
     ]
    }
   ],
   "source": [
    "# create an array from elemnt on index 0 and 2\n",
    "\n",
    "arr = np.array([41,42,43,44])\n",
    "x= [True ,False ,True ,False]\n",
    "newarr = arr[x]\n",
    "print(newarr)"
   ]
  },
  {
   "cell_type": "code",
   "execution_count": 31,
   "id": "7a9a0021",
   "metadata": {},
   "outputs": [
    {
     "name": "stdout",
     "output_type": "stream",
     "text": [
      "[False False  True  True  True]\n",
      "[43 44 45]\n"
     ]
    }
   ],
   "source": [
    "# create an array that return only >42\n",
    "\n",
    "arr = np.array([41,42,43,44,45])\n",
    "filter_arr = arr>42\n",
    "newarr = arr[filter_arr]\n",
    "print(filter_arr)\n",
    "print(newarr)"
   ]
  },
  {
   "cell_type": "markdown",
   "id": "eed61096",
   "metadata": {},
   "source": [
    "# Ranom modules\n",
    "\n",
    "- np.random.random() = use tuples and list inbracet\n",
    "##### rand =\n",
    "- generate random number between 0.0 ,1,0\n",
    "- syntax = np.random.rand(shape)\n",
    "##### randit() = \n",
    "- generate random number bet specific range .data type of an elemnt is always int\n",
    "- syntax = np.random.randit(lower range ,higherrange ,size)  default low and high = 0 and size = 1\n",
    "##### randn() = \n",
    "##### choice() = \n",
    "- The choice() method allows you to generate a random value based on an array of values.\n",
    "- The choice() method takes an array as a parameter and randomly returns one of the values.\n"
   ]
  },
  {
   "cell_type": "code",
   "execution_count": 10,
   "id": "d5ac49b4",
   "metadata": {},
   "outputs": [
    {
     "name": "stdout",
     "output_type": "stream",
     "text": [
      "0.2916727647970032\n",
      "[0.28043332 0.90757469 0.00946277]\n",
      "[[0.69751036 0.42525329]\n",
      " [0.44503434 0.73084881]]\n",
      "[[0.66273278 0.74939359]\n",
      " [0.37641809 0.85661358]]\n",
      "[[[0.91670768 0.76362607 0.28307612]\n",
      "  [0.92493946 0.80009423 0.2486622 ]]]\n"
     ]
    }
   ],
   "source": [
    "from numpy import random\n",
    "import numpy as np \n",
    "\n",
    "## 1-D\n",
    "A = random.random()\n",
    "print(A)\n",
    "\n",
    "B = random.random(3)\n",
    "print(B)\n",
    "\n",
    "## 2-D \n",
    "A = random.random((2,2))\n",
    "print(A)\n",
    "\n",
    "B = random.random([2,2])     #2=row ,2= column\n",
    "print(B)\n",
    "\n",
    "### 3-D\n",
    "C= random.random((1,2,3))     #1= group ,2=row ,3=column\n",
    "print(C)"
   ]
  },
  {
   "cell_type": "code",
   "execution_count": 56,
   "id": "d821488f",
   "metadata": {},
   "outputs": [
    {
     "data": {
      "text/plain": [
       "array([[0.09199034],\n",
       "       [0.00839878]])"
      ]
     },
     "execution_count": 56,
     "metadata": {},
     "output_type": "execute_result"
    }
   ],
   "source": [
    "np.random.rand(2,1)"
   ]
  },
  {
   "cell_type": "code",
   "execution_count": 69,
   "id": "1764e511",
   "metadata": {},
   "outputs": [
    {
     "name": "stdout",
     "output_type": "stream",
     "text": [
      "[[69 98 28  7 40]\n",
      " [ 5 95 99 39 20]\n",
      " [45 88 77 55  0]]\n",
      "15\n",
      "[13 19 12]\n",
      "[[ 9 18  9]\n",
      " [ 5  8  6]\n",
      " [11 13 11]]\n"
     ]
    }
   ],
   "source": [
    "x = random.randint(100, size=(3, 5))\n",
    "print(x)\n",
    "\n",
    "print(random.randint(10,20))\n",
    "print(random.randint(10,20,3))\n",
    "print(random.randint(1,20,(3,3)))"
   ]
  },
  {
   "cell_type": "code",
   "execution_count": 70,
   "id": "d36ef612",
   "metadata": {},
   "outputs": [
    {
     "name": "stdout",
     "output_type": "stream",
     "text": [
      "7\n",
      "[3 6 6]\n",
      "[[4 4]\n",
      " [2 4]]\n",
      "[[[5 4 4]\n",
      "  [5 3 6]]]\n"
     ]
    }
   ],
   "source": [
    "x = random.choice([3, 5, 7, 9])\n",
    "print(x)\n",
    "\n",
    "print(random.choice([2,3,4,5,6],size = 3)) #1-D\n",
    "print(random.choice([2,3,4,5,6],size = (2,2))) #2-D\n",
    "print(random.choice([2,3,4,5,6],size = (1,2,3))) #3-D"
   ]
  },
  {
   "cell_type": "markdown",
   "id": "c00cd9c5",
   "metadata": {},
   "source": [
    "## probalblity distribution\n",
    "- A random distribution is a set of random numbers that follow a certain probability density function.\n",
    "- Probability Density Function: A function that describes a continuous probability. i.e. probability of all values in an array.\n",
    "- The choice() method allows us to specify the probability for each value.\n",
    "\n",
    "- The probability is set by a number between 0 and 1, where 0 means that the value will never occur and 1 means that the value will always occur.\n",
    "- The sum of all probability numbers should be 1.\n"
   ]
  },
  {
   "cell_type": "code",
   "execution_count": 78,
   "id": "e149ab0a",
   "metadata": {},
   "outputs": [
    {
     "name": "stdout",
     "output_type": "stream",
     "text": [
      "[7 7 7 7 7 7 7 5 7 7]\n"
     ]
    }
   ],
   "source": [
    "x = random.choice([3, 5, 7, 9], p=[0.1, 0.3, 0.6, 0.0], size=(10))\n",
    "\n",
    "print(x)    ##notebook"
   ]
  },
  {
   "cell_type": "markdown",
   "id": "d7185e04",
   "metadata": {},
   "source": [
    "### Random Permutations of Elements\n",
    "- A permutation refers to an arrangement of elements. e.g. [3, 2, 1] is a permutation of [1, 2, 3] and vice-versa.\n",
    "\n",
    "- Shuffle means changing arrangement of elements in-place. i.e. in the array itself \n",
    "- The shuffle() method makes changes to the original array.\n",
    "- The permutation() method returns a re-arranged array (and leaves the original array un-changed).\n",
    "\n",
    " \n",
    " \n"
   ]
  },
  {
   "cell_type": "code",
   "execution_count": 76,
   "id": "7a2852bb",
   "metadata": {},
   "outputs": [
    {
     "name": "stdout",
     "output_type": "stream",
     "text": [
      "None\n",
      "[3 4 5 1 2]\n"
     ]
    }
   ],
   "source": [
    "arr = np.array([1, 2, 3, 4, 5])\n",
    "\n",
    "print(np.random.shuffle(arr))\n",
    "print(arr)"
   ]
  },
  {
   "cell_type": "code",
   "execution_count": 75,
   "id": "da4f59f6",
   "metadata": {},
   "outputs": [
    {
     "name": "stdout",
     "output_type": "stream",
     "text": [
      "[1 5 4 3 2]\n",
      "[1 4 5 2 3]\n"
     ]
    }
   ],
   "source": [
    "print(random.permutation(arr))\n",
    "print(arr)"
   ]
  },
  {
   "cell_type": "markdown",
   "id": "9b05489d",
   "metadata": {},
   "source": [
    "## Normal Distribution\n",
    "\n",
    "- It is also called the Gaussian Distribution after the German mathematician Carl Friedrich Gauss.\n",
    "\n",
    "- It fits the probability distribution of many events, eg. IQ Scores, Heartbeat etc.\n",
    "\n",
    "- Use the random.normal() method to get a Normal Data Distribution.\n",
    "\n",
    "- It has three parameters:\n",
    "\n",
    "- loc - (Mean) where the peak of the bell exists.\n",
    "\n",
    "- scale - (Standard Deviation) how flat the graph distribution should be.\n",
    "\n",
    "- size - The shape of the returned array.\n",
    "\n"
   ]
  },
  {
   "cell_type": "code",
   "execution_count": 79,
   "id": "e7fe370e",
   "metadata": {},
   "outputs": [
    {
     "name": "stdout",
     "output_type": "stream",
     "text": [
      "[[-1.25898583 -1.63818135  0.30089713]\n",
      " [-1.45358317  0.5745748  -1.49990292]]\n"
     ]
    }
   ],
   "source": [
    "# Generate a random normal distribution of size 2x3\n",
    "\n",
    "x = random.normal(size = (2,3))\n",
    "print(x)\n"
   ]
  },
  {
   "cell_type": "code",
   "execution_count": 80,
   "id": "d66e96fd",
   "metadata": {},
   "outputs": [
    {
     "name": "stdout",
     "output_type": "stream",
     "text": [
      "[[ 5.53596947 -0.95170938  1.57667133]\n",
      " [ 2.89592329 -3.21921175 -0.45572352]]\n"
     ]
    }
   ],
   "source": [
    "#Generate a random normal distribution of size 2x3 with mean at 1 and standard deviation of 2:\n",
    "\n",
    "x = random.normal(loc=1, scale=2, size=(2, 3))\n",
    "print(x)"
   ]
  },
  {
   "cell_type": "code",
   "execution_count": 81,
   "id": "e8fbc57a",
   "metadata": {
    "scrolled": false
   },
   "outputs": [
    {
     "name": "stderr",
     "output_type": "stream",
     "text": [
      "C:\\Users\\comps\\AppData\\Local\\Temp\\ipykernel_12412\\3887522458.py:7: UserWarning: \n",
      "\n",
      "`distplot` is a deprecated function and will be removed in seaborn v0.14.0.\n",
      "\n",
      "Please adapt your code to use either `displot` (a figure-level function with\n",
      "similar flexibility) or `kdeplot` (an axes-level function for kernel density plots).\n",
      "\n",
      "For a guide to updating your code to use the new functions, please see\n",
      "https://gist.github.com/mwaskom/de44147ed2974457ad6372750bbe5751\n",
      "\n",
      "  sns.distplot(random.normal(size=1000), hist=False)\n"
     ]
    },
    {
     "data": {
      "image/png": "[encoded data removed]",
      "text/plain": [
       "<Figure size 640x480 with 1 Axes>"
      ]
     },
     "metadata": {},
     "output_type": "display_data"
    }
   ],
   "source": [
    "#Visualization of Normal Distribution\n",
    "\n",
    "from numpy import random\n",
    "import matplotlib.pyplot as plt\n",
    "import seaborn as sns\n",
    "\n",
    "sns.distplot(random.normal(size=1000), hist=False)\n",
    "plt.show()\n"
   ]
  },
  {
   "cell_type": "markdown",
   "id": "ed7915e3",
   "metadata": {},
   "source": [
    "## Binomial Distribution\n",
    "- Binomial Distribution is a Discrete Distribution.\n",
    "- It describes the outcome of binary scenarios, e.g. toss of a coin, it will either be head or tails.\n",
    "\n",
    "- It has three parameters:\n",
    "\n",
    "- n - number of trials.\n",
    "\n",
    "- p - probability of occurence of each trial (e.g. for toss of a coin 0.5 each).\n",
    "\n",
    "- size - The shape of the returned array.\n",
    "\n",
    "- Discrete Distribution:The distribution is defined at separate set of events, e.g. a coin toss's result is discrete as it can be only head or tails whereas height of people is continuous as it can be 170, 170.1, 170.11 and so on.\n",
    "\n",
    "##### Difference Between Normal and Binomial Distribution\n",
    "- The main difference is that normal distribution is continous whereas binomial is discrete, but if there are enough data points it will be quite similar to normal distribution with certain loc and scale."
   ]
  },
  {
   "cell_type": "code",
   "execution_count": 82,
   "id": "d1e67c5b",
   "metadata": {},
   "outputs": [
    {
     "name": "stdout",
     "output_type": "stream",
     "text": [
      "[3 9 6 5 4 4 4 5 8 4]\n"
     ]
    }
   ],
   "source": [
    "#Given 10 trials for coin toss generate 10 data points:\n",
    "from numpy import random\n",
    "x = random.binomial(n=10, p=0.5, size=10)\n",
    "print(x)"
   ]
  },
  {
   "cell_type": "code",
   "execution_count": 83,
   "id": "ef6dcd00",
   "metadata": {},
   "outputs": [
    {
     "name": "stderr",
     "output_type": "stream",
     "text": [
      "C:\\Users\\comps\\AppData\\Local\\Temp\\ipykernel_12412\\3954145330.py:7: UserWarning: \n",
      "\n",
      "`distplot` is a deprecated function and will be removed in seaborn v0.14.0.\n",
      "\n",
      "Please adapt your code to use either `displot` (a figure-level function with\n",
      "similar flexibility) or `histplot` (an axes-level function for histograms).\n",
      "\n",
      "For a guide to updating your code to use the new functions, please see\n",
      "https://gist.github.com/mwaskom/de44147ed2974457ad6372750bbe5751\n",
      "\n",
      "  sns.distplot(random.binomial(n=10, p=0.5, size=1000), hist=True, kde=False)\n"
     ]
    },
    {
     "data": {
      "image/png": "[encoded data removed]",
      "text/plain": [
       "<Figure size 640x480 with 1 Axes>"
      ]
     },
     "metadata": {},
     "output_type": "display_data"
    }
   ],
   "source": [
    "#Visualization of Binomial Distribution\n",
    "\n",
    "from numpy import random\n",
    "import matplotlib.pyplot as plt\n",
    "import seaborn as sns\n",
    "\n",
    "sns.distplot(random.binomial(n=10, p=0.5, size=1000), hist=True, kde=False)\n",
    "\n",
    "plt.show()"
   ]
  },
  {
   "cell_type": "code",
   "execution_count": 84,
   "id": "7556e834",
   "metadata": {},
   "outputs": [
    {
     "name": "stderr",
     "output_type": "stream",
     "text": [
      "C:\\Users\\comps\\AppData\\Local\\Temp\\ipykernel_12412\\954162147.py:7: UserWarning: \n",
      "\n",
      "`distplot` is a deprecated function and will be removed in seaborn v0.14.0.\n",
      "\n",
      "Please adapt your code to use either `displot` (a figure-level function with\n",
      "similar flexibility) or `kdeplot` (an axes-level function for kernel density plots).\n",
      "\n",
      "For a guide to updating your code to use the new functions, please see\n",
      "https://gist.github.com/mwaskom/de44147ed2974457ad6372750bbe5751\n",
      "\n",
      "  sns.distplot(random.normal(loc=50, scale=5, size=1000), hist=False, label='normal')\n",
      "C:\\Users\\comps\\AppData\\Local\\Temp\\ipykernel_12412\\954162147.py:8: UserWarning: \n",
      "\n",
      "`distplot` is a deprecated function and will be removed in seaborn v0.14.0.\n",
      "\n",
      "Please adapt your code to use either `displot` (a figure-level function with\n",
      "similar flexibility) or `kdeplot` (an axes-level function for kernel density plots).\n",
      "\n",
      "For a guide to updating your code to use the new functions, please see\n",
      "https://gist.github.com/mwaskom/de44147ed2974457ad6372750bbe5751\n",
      "\n",
      "  sns.distplot(random.binomial(n=100, p=0.5, size=1000), hist=False, label='binomial')\n"
     ]
    },
    {
     "data": {
      "image/png": "[encoded data removed]",
      "text/plain": [
       "<Figure size 640x480 with 1 Axes>"
      ]
     },
     "metadata": {},
     "output_type": "display_data"
    }
   ],
   "source": [
    "#Difference Between Normal and Binomial Distribution\n",
    "\n",
    "from numpy import random\n",
    "import matplotlib.pyplot as plt\n",
    "import seaborn as sns\n",
    "\n",
    "sns.distplot(random.normal(loc=50, scale=5, size=1000), hist=False, label='normal')\n",
    "sns.distplot(random.binomial(n=100, p=0.5, size=1000), hist=False, label='binomial')\n",
    "\n",
    "plt.show()"
   ]
  },
  {
   "cell_type": "markdown",
   "id": "cbc25fc9",
   "metadata": {},
   "source": [
    "## Poisson Distribution\n",
    "Poisson Distribution is a Discrete Distribution.\n",
    "\n",
    "It estimates how many times an event can happen in a specified time. e.g. If someone eats twice a day what is the probability he will eat thrice?\n",
    "\n",
    "It has two parameters:\n",
    "\n",
    "lam - rate or known number of occurrences e.g. 2 for above problem.\n",
    "\n",
    "size - The shape of the returned array.\n",
    "\n",
    "###### Difference Between Normal and Poisson Distribution\n",
    "Normal distribution is continuous whereas poisson is discrete.\n",
    "\n",
    "But we can see that similar to binomial for a large enough poisson distribution it will become similar to normal distribution with certain std dev and mean."
   ]
  },
  {
   "cell_type": "code",
   "execution_count": 87,
   "id": "3b34543f",
   "metadata": {},
   "outputs": [
    {
     "name": "stdout",
     "output_type": "stream",
     "text": [
      "[3 3 3 4 1 1 4 2 3 3]\n"
     ]
    }
   ],
   "source": [
    "#Generate a random 1x10 distribution for occurrence 2:\n",
    "\n",
    "from numpy import random\n",
    "\n",
    "x = random.poisson(lam=2, size=10)\n",
    "\n",
    "print(x)"
   ]
  },
  {
   "cell_type": "code",
   "execution_count": 86,
   "id": "9cfa5ec8",
   "metadata": {},
   "outputs": [
    {
     "name": "stderr",
     "output_type": "stream",
     "text": [
      "C:\\Users\\comps\\AppData\\Local\\Temp\\ipykernel_12412\\3967420985.py:7: UserWarning: \n",
      "\n",
      "`distplot` is a deprecated function and will be removed in seaborn v0.14.0.\n",
      "\n",
      "Please adapt your code to use either `displot` (a figure-level function with\n",
      "similar flexibility) or `histplot` (an axes-level function for histograms).\n",
      "\n",
      "For a guide to updating your code to use the new functions, please see\n",
      "https://gist.github.com/mwaskom/de44147ed2974457ad6372750bbe5751\n",
      "\n",
      "  sns.distplot(random.poisson(lam=2, size=1000), kde=False)\n"
     ]
    },
    {
     "data": {
      "image/png": "[encoded data removed]",
      "text/plain": [
       "<Figure size 640x480 with 1 Axes>"
      ]
     },
     "metadata": {},
     "output_type": "display_data"
    }
   ],
   "source": [
    "#Visualization of Poisson Distribution\n",
    "\n",
    "from numpy import random\n",
    "import matplotlib.pyplot as plt\n",
    "import seaborn as sns\n",
    "\n",
    "sns.distplot(random.poisson(lam=2, size=1000), kde=False)\n",
    "\n",
    "plt.show()"
   ]
  },
  {
   "cell_type": "code",
   "execution_count": 85,
   "id": "bd3ad93f",
   "metadata": {},
   "outputs": [
    {
     "name": "stderr",
     "output_type": "stream",
     "text": [
      "C:\\Users\\comps\\AppData\\Local\\Temp\\ipykernel_12412\\334848256.py:6: UserWarning: \n",
      "\n",
      "`distplot` is a deprecated function and will be removed in seaborn v0.14.0.\n",
      "\n",
      "Please adapt your code to use either `displot` (a figure-level function with\n",
      "similar flexibility) or `kdeplot` (an axes-level function for kernel density plots).\n",
      "\n",
      "For a guide to updating your code to use the new functions, please see\n",
      "https://gist.github.com/mwaskom/de44147ed2974457ad6372750bbe5751\n",
      "\n",
      "  sns.distplot(random.normal(loc=50, scale=7, size=1000), hist=False, label='normal')\n",
      "C:\\Users\\comps\\AppData\\Local\\Temp\\ipykernel_12412\\334848256.py:7: UserWarning: \n",
      "\n",
      "`distplot` is a deprecated function and will be removed in seaborn v0.14.0.\n",
      "\n",
      "Please adapt your code to use either `displot` (a figure-level function with\n",
      "similar flexibility) or `kdeplot` (an axes-level function for kernel density plots).\n",
      "\n",
      "For a guide to updating your code to use the new functions, please see\n",
      "https://gist.github.com/mwaskom/de44147ed2974457ad6372750bbe5751\n",
      "\n",
      "  sns.distplot(random.poisson(lam=50, size=1000), hist=False, label='poisson')\n"
     ]
    },
    {
     "data": {
      "image/png": "[encoded data removed]",
      "text/plain": [
       "<Figure size 640x480 with 1 Axes>"
      ]
     },
     "metadata": {},
     "output_type": "display_data"
    }
   ],
   "source": [
    "#Difference Between Normal and Poisson Distribution\n",
    "from numpy import random\n",
    "import matplotlib.pyplot as plt\n",
    "import seaborn as sns\n",
    "\n",
    "sns.distplot(random.normal(loc=50, scale=7, size=1000), hist=False, label='normal')\n",
    "sns.distplot(random.poisson(lam=50, size=1000), hist=False, label='poisson')\n",
    "\n",
    "plt.show()"
   ]
  },
  {
   "cell_type": "markdown",
   "id": "ff907e55",
   "metadata": {},
   "source": [
    "## Uniform Distribution\n",
    "Used to describe probability where every event has equal chances of occuring.\n",
    "\n",
    "E.g. Generation of random numbers.\n",
    "\n",
    "It has three parameters:\n",
    "\n",
    "a - lower bound - default 0 .0.\n",
    "\n",
    "b - upper bound - default 1.0.\n",
    "\n",
    "size - The shape of the returned array."
   ]
  },
  {
   "cell_type": "code",
   "execution_count": 88,
   "id": "61b6b780",
   "metadata": {},
   "outputs": [
    {
     "name": "stdout",
     "output_type": "stream",
     "text": [
      "[[0.96337337 0.6830662  0.42492218]\n",
      " [0.5951122  0.92964478 0.96598149]]\n"
     ]
    }
   ],
   "source": [
    "#Create a 2x3 uniform distribution sample:\n",
    "\n",
    "from numpy import random\n",
    "\n",
    "x = random.uniform(size=(2, 3))\n",
    "\n",
    "print(x)"
   ]
  },
  {
   "cell_type": "code",
   "execution_count": 89,
   "id": "a31f24c8",
   "metadata": {},
   "outputs": [
    {
     "name": "stderr",
     "output_type": "stream",
     "text": [
      "C:\\Users\\comps\\AppData\\Local\\Temp\\ipykernel_12412\\3868301820.py:5: UserWarning: \n",
      "\n",
      "`distplot` is a deprecated function and will be removed in seaborn v0.14.0.\n",
      "\n",
      "Please adapt your code to use either `displot` (a figure-level function with\n",
      "similar flexibility) or `kdeplot` (an axes-level function for kernel density plots).\n",
      "\n",
      "For a guide to updating your code to use the new functions, please see\n",
      "https://gist.github.com/mwaskom/de44147ed2974457ad6372750bbe5751\n",
      "\n",
      "  sns.distplot(random.uniform(size=1000), hist=False)\n"
     ]
    },
    {
     "data": {
      "image/png": "[encoded data removed]",
      "text/plain": [
       "<Figure size 640x480 with 1 Axes>"
      ]
     },
     "metadata": {},
     "output_type": "display_data"
    }
   ],
   "source": [
    "from numpy import random\n",
    "import matplotlib.pyplot as plt\n",
    "import seaborn as sns\n",
    "\n",
    "sns.distplot(random.uniform(size=1000), hist=False)\n",
    "\n",
    "plt.show()"
   ]
  },
  {
   "cell_type": "markdown",
   "id": "8c4791c4",
   "metadata": {},
   "source": [
    "## Logistic Distribution\n",
    "Logistic Distribution is used to describe growth.\n",
    "\n",
    "Used extensively in machine learning in logistic regression, neural networks etc.\n",
    "\n",
    "It has three parameters:\n",
    "\n",
    "loc - mean, where the peak is. Default 0.\n",
    "\n",
    "scale - standard deviation, the flatness of distribution. Default 1.\n",
    "\n",
    "size - The shape of the returned array.\n",
    "\n",
    "###### Difference Between Logistic and Normal Distribution\n",
    "Both distributions are near identical, but logistic distribution has more area under the tails, meaning it represents more possibility of occurrence of an event further away from mean.\n",
    "\n",
    "For higher value of scale (standard deviation) the normal and logistic distributions are near identical apart from the peak"
   ]
  },
  {
   "cell_type": "code",
   "execution_count": 11,
   "id": "c52c7369",
   "metadata": {},
   "outputs": [
    {
     "name": "stdout",
     "output_type": "stream",
     "text": [
      "[[-1.42967926 -6.98496261  2.64473726]\n",
      " [ 8.13791306  4.35911915  1.14767228]]\n"
     ]
    }
   ],
   "source": [
    "\n",
    "x = random.logistic(loc=1, scale=2, size=(2, 3))\n",
    "\n",
    "print(x)"
   ]
  },
  {
   "cell_type": "code",
   "execution_count": 12,
   "id": "aa53622b",
   "metadata": {},
   "outputs": [
    {
     "name": "stderr",
     "output_type": "stream",
     "text": [
      "C:\\Users\\comps\\AppData\\Local\\Temp\\ipykernel_20912\\736028887.py:5: UserWarning: \n",
      "\n",
      "`distplot` is a deprecated function and will be removed in seaborn v0.14.0.\n",
      "\n",
      "Please adapt your code to use either `displot` (a figure-level function with\n",
      "similar flexibility) or `kdeplot` (an axes-level function for kernel density plots).\n",
      "\n",
      "For a guide to updating your code to use the new functions, please see\n",
      "https://gist.github.com/mwaskom/de44147ed2974457ad6372750bbe5751\n",
      "\n",
      "  sns.distplot(random.logistic(size=1000), hist=False)\n"
     ]
    },
    {
     "data": {
      "image/png": "[encoded data removed]",
      "text/plain": [
       "<Figure size 640x480 with 1 Axes>"
      ]
     },
     "metadata": {},
     "output_type": "display_data"
    }
   ],
   "source": [
    "from numpy import random\n",
    "import matplotlib.pyplot as plt\n",
    "import seaborn as sns\n",
    "\n",
    "sns.distplot(random.logistic(size=1000), hist=False)\n",
    "\n",
    "plt.show()"
   ]
  },
  {
   "cell_type": "code",
   "execution_count": 13,
   "id": "31566ba6",
   "metadata": {},
   "outputs": [
    {
     "name": "stderr",
     "output_type": "stream",
     "text": [
      "C:\\Users\\comps\\AppData\\Local\\Temp\\ipykernel_20912\\792808986.py:5: UserWarning: \n",
      "\n",
      "`distplot` is a deprecated function and will be removed in seaborn v0.14.0.\n",
      "\n",
      "Please adapt your code to use either `displot` (a figure-level function with\n",
      "similar flexibility) or `kdeplot` (an axes-level function for kernel density plots).\n",
      "\n",
      "For a guide to updating your code to use the new functions, please see\n",
      "https://gist.github.com/mwaskom/de44147ed2974457ad6372750bbe5751\n",
      "\n",
      "  sns.distplot(random.normal(scale=2, size=1000), hist=False, label='normal')\n",
      "C:\\Users\\comps\\AppData\\Local\\Temp\\ipykernel_20912\\792808986.py:6: UserWarning: \n",
      "\n",
      "`distplot` is a deprecated function and will be removed in seaborn v0.14.0.\n",
      "\n",
      "Please adapt your code to use either `displot` (a figure-level function with\n",
      "similar flexibility) or `kdeplot` (an axes-level function for kernel density plots).\n",
      "\n",
      "For a guide to updating your code to use the new functions, please see\n",
      "https://gist.github.com/mwaskom/de44147ed2974457ad6372750bbe5751\n",
      "\n",
      "  sns.distplot(random.logistic(size=1000), hist=False, label='logistic')\n"
     ]
    },
    {
     "data": {
      "image/png": "[encoded data removed]",
      "text/plain": [
       "<Figure size 640x480 with 1 Axes>"
      ]
     },
     "metadata": {},
     "output_type": "display_data"
    }
   ],
   "source": [
    "from numpy import random\n",
    "import matplotlib.pyplot as plt\n",
    "import seaborn as sns\n",
    "\n",
    "sns.distplot(random.normal(scale=2, size=1000), hist=False, label='normal')\n",
    "sns.distplot(random.logistic(size=1000), hist=False, label='logistic')\n",
    "\n",
    "plt.show()"
   ]
  },
  {
   "cell_type": "markdown",
   "id": "aaf15064",
   "metadata": {},
   "source": [
    "## Multinomial Distribution\n",
    "Multinomial distribution is a generalization of binomial distribution.\n",
    "\n",
    "It describes outcomes of multi-nomial scenarios unlike binomial where scenarios must be only one of two. e.g. Blood type of a population, dice roll outcome.\n",
    "\n",
    "It has three parameters:\n",
    "\n",
    "n - number of possible outcomes (e.g. 6 for dice roll).\n",
    "\n",
    "pvals - list of probabilties of outcomes (e.g. [1/6, 1/6, 1/6, 1/6, 1/6, 1/6] for dice roll).\n",
    "\n",
    "size - The shape of the returned array.\n",
    "\n",
    "Note: Multinomial samples will NOT produce a single value! They will produce one value for each pval.\n",
    "\n",
    "Note: As they are generalization of binomial distribution their visual representation and similarity of normal distribution is same as that of multiple binomial distributions."
   ]
  },
  {
   "cell_type": "code",
   "execution_count": 90,
   "id": "1ba44b77",
   "metadata": {},
   "outputs": [
    {
     "name": "stdout",
     "output_type": "stream",
     "text": [
      "[0 1 0 4 1 0]\n"
     ]
    }
   ],
   "source": [
    "from numpy import random\n",
    "\n",
    "x = random.multinomial(n=6, pvals=[1/6, 1/6, 1/6, 1/6, 1/6, 1/6])\n",
    "\n",
    "print(x)"
   ]
  },
  {
   "cell_type": "markdown",
   "id": "52a7430c",
   "metadata": {},
   "source": [
    "## Exponential Distribution\n",
    "Exponential distribution is used for describing time till next event e.g. failure/success etc.\n",
    "\n",
    "It has two parameters:\n",
    "\n",
    "scale - inverse of rate ( see lam in poisson distribution ) defaults to 1.0.\n",
    "\n",
    "size - The shape of the returned array.\n",
    "\n",
    "###### Relation Between Poisson and Exponential Distribution\n",
    "Poisson distribution deals with number of occurences of an event in a time period whereas exponential distribution deals with the time between these events."
   ]
  },
  {
   "cell_type": "code",
   "execution_count": 14,
   "id": "cb41d8fd",
   "metadata": {},
   "outputs": [
    {
     "name": "stdout",
     "output_type": "stream",
     "text": [
      "[[0.67217061 0.5290704  1.38840552]\n",
      " [3.37796989 5.17320537 1.78462092]]\n"
     ]
    }
   ],
   "source": [
    "#Draw out a sample for exponential distribution with 2.0 scale with 2x3 size:\n",
    "\n",
    "from numpy import random\n",
    "\n",
    "x = random.exponential(scale=2, size=(2, 3))\n",
    "\n",
    "print(x)"
   ]
  },
  {
   "cell_type": "code",
   "execution_count": 15,
   "id": "e4840968",
   "metadata": {},
   "outputs": [
    {
     "name": "stderr",
     "output_type": "stream",
     "text": [
      "C:\\Users\\comps\\AppData\\Local\\Temp\\ipykernel_20912\\2187777510.py:5: UserWarning: \n",
      "\n",
      "`distplot` is a deprecated function and will be removed in seaborn v0.14.0.\n",
      "\n",
      "Please adapt your code to use either `displot` (a figure-level function with\n",
      "similar flexibility) or `kdeplot` (an axes-level function for kernel density plots).\n",
      "\n",
      "For a guide to updating your code to use the new functions, please see\n",
      "https://gist.github.com/mwaskom/de44147ed2974457ad6372750bbe5751\n",
      "\n",
      "  sns.distplot(random.exponential(size=1000), hist=False)\n"
     ]
    },
    {
     "data": {
      "image/png": "[encoded data removed]",
      "text/plain": [
       "<Figure size 640x480 with 1 Axes>"
      ]
     },
     "metadata": {},
     "output_type": "display_data"
    }
   ],
   "source": [
    "from numpy import random\n",
    "import matplotlib.pyplot as plt\n",
    "import seaborn as sns\n",
    "\n",
    "sns.distplot(random.exponential(size=1000), hist=False)\n",
    "\n",
    "plt.show()"
   ]
  },
  {
   "cell_type": "markdown",
   "id": "f235efaf",
   "metadata": {},
   "source": [
    "## Chi Square Distribution\n",
    "Chi Square distribution is used as a basis to verify the hypothesis.\n",
    "\n",
    "It has two parameters:\n",
    "\n",
    "df - (degree of freedom).\n",
    "\n",
    "size - The shape of the returned array."
   ]
  },
  {
   "cell_type": "code",
   "execution_count": 92,
   "id": "c8b450f8",
   "metadata": {},
   "outputs": [
    {
     "name": "stdout",
     "output_type": "stream",
     "text": [
      "[[2.93111418 0.422608   2.34826791]\n",
      " [3.4421889  0.03044241 2.01011241]]\n"
     ]
    }
   ],
   "source": [
    "## Draw out a sample for chi squared distribution with degree of freedom 2 with size 2x3:\n",
    "\n",
    "from numpy import random\n",
    "\n",
    "x = random.chisquare(df=2, size=(2, 3))\n",
    "\n",
    "print(x)"
   ]
  },
  {
   "cell_type": "code",
   "execution_count": 91,
   "id": "cbe7d009",
   "metadata": {},
   "outputs": [
    {
     "name": "stderr",
     "output_type": "stream",
     "text": [
      "C:\\Users\\comps\\AppData\\Local\\Temp\\ipykernel_12412\\2824890621.py:5: UserWarning: \n",
      "\n",
      "`distplot` is a deprecated function and will be removed in seaborn v0.14.0.\n",
      "\n",
      "Please adapt your code to use either `displot` (a figure-level function with\n",
      "similar flexibility) or `kdeplot` (an axes-level function for kernel density plots).\n",
      "\n",
      "For a guide to updating your code to use the new functions, please see\n",
      "https://gist.github.com/mwaskom/de44147ed2974457ad6372750bbe5751\n",
      "\n",
      "  sns.distplot(random.chisquare(df=1, size=1000), hist=False)\n"
     ]
    },
    {
     "data": {
      "image/png": "[encoded data removed]",
      "text/plain": [
       "<Figure size 640x480 with 1 Axes>"
      ]
     },
     "metadata": {},
     "output_type": "display_data"
    }
   ],
   "source": [
    "from numpy import random\n",
    "import matplotlib.pyplot as plt\n",
    "import seaborn as sns\n",
    "\n",
    "sns.distplot(random.chisquare(df=1, size=1000), hist=False)\n",
    "\n",
    "plt.show()"
   ]
  },
  {
   "cell_type": "markdown",
   "id": "377d805f",
   "metadata": {},
   "source": [
    "## Rayleigh Distribution\n",
    "Rayleigh distribution is used in signal processing.\n",
    "\n",
    "It has two parameters:\n",
    "\n",
    "scale - (standard deviation) decides how flat the distribution will be default 1.0).\n",
    "\n",
    "size - The shape of the returned array.\n",
    "\n",
    "##### Similarity Between Rayleigh and Chi Square Distribution\n",
    "At unit stddev and 2 degrees of freedom rayleigh and chi square represent the same distributions."
   ]
  },
  {
   "cell_type": "code",
   "execution_count": 16,
   "id": "2333bc90",
   "metadata": {},
   "outputs": [
    {
     "name": "stdout",
     "output_type": "stream",
     "text": [
      "[[1.40154259 2.07230264 3.98935405]\n",
      " [2.37674863 1.56422929 1.80068698]]\n"
     ]
    }
   ],
   "source": [
    "#Draw out a sample for rayleigh distribution with scale of 2 with size 2x3:\n",
    "\n",
    "from numpy import random\n",
    "\n",
    "x = random.rayleigh(scale=2, size=(2, 3))\n",
    "\n",
    "print(x)"
   ]
  },
  {
   "cell_type": "code",
   "execution_count": 17,
   "id": "b50221d7",
   "metadata": {},
   "outputs": [
    {
     "name": "stderr",
     "output_type": "stream",
     "text": [
      "C:\\Users\\comps\\AppData\\Local\\Temp\\ipykernel_20912\\2171748856.py:5: UserWarning: \n",
      "\n",
      "`distplot` is a deprecated function and will be removed in seaborn v0.14.0.\n",
      "\n",
      "Please adapt your code to use either `displot` (a figure-level function with\n",
      "similar flexibility) or `kdeplot` (an axes-level function for kernel density plots).\n",
      "\n",
      "For a guide to updating your code to use the new functions, please see\n",
      "https://gist.github.com/mwaskom/de44147ed2974457ad6372750bbe5751\n",
      "\n",
      "  sns.distplot(random.rayleigh(size=1000), hist=False)\n"
     ]
    },
    {
     "data": {
      "image/png": "[encoded data removed]",
      "text/plain": [
       "<Figure size 640x480 with 1 Axes>"
      ]
     },
     "metadata": {},
     "output_type": "display_data"
    }
   ],
   "source": [
    "from numpy import random\n",
    "import matplotlib.pyplot as plt\n",
    "import seaborn as sns\n",
    "\n",
    "sns.distplot(random.rayleigh(size=1000), hist=False)\n",
    "\n",
    "plt.show()"
   ]
  },
  {
   "cell_type": "markdown",
   "id": "91afcd44",
   "metadata": {},
   "source": [
    "## Pareto Distribution\n",
    "A distribution following Pareto's law i.e. 80-20 distribution (20% factors cause 80% outcome).\n",
    "\n",
    "It has two parameter:\n",
    "\n",
    "a - shape parameter.\n",
    "\n",
    "size - The shape of the returned array."
   ]
  },
  {
   "cell_type": "code",
   "execution_count": null,
   "id": "3f9150ad",
   "metadata": {},
   "outputs": [],
   "source": [
    "#Draw out a sample for pareto distribution with shape of 2 with size 2x3:\n",
    "\n",
    "from numpy import random\n",
    "\n",
    "x = random.pareto(a=2, size=(2, 3))\n",
    "\n",
    "print(x)"
   ]
  },
  {
   "cell_type": "code",
   "execution_count": 93,
   "id": "f0e102b1",
   "metadata": {},
   "outputs": [
    {
     "name": "stderr",
     "output_type": "stream",
     "text": [
      "C:\\Users\\comps\\AppData\\Local\\Temp\\ipykernel_12412\\2884138889.py:5: UserWarning: \n",
      "\n",
      "`distplot` is a deprecated function and will be removed in seaborn v0.14.0.\n",
      "\n",
      "Please adapt your code to use either `displot` (a figure-level function with\n",
      "similar flexibility) or `histplot` (an axes-level function for histograms).\n",
      "\n",
      "For a guide to updating your code to use the new functions, please see\n",
      "https://gist.github.com/mwaskom/de44147ed2974457ad6372750bbe5751\n",
      "\n",
      "  sns.distplot(random.pareto(a=2, size=1000), kde=False)\n"
     ]
    },
    {
     "data": {
      "image/png": "[encoded data removed]",
      "text/plain": [
       "<Figure size 640x480 with 1 Axes>"
      ]
     },
     "metadata": {},
     "output_type": "display_data"
    }
   ],
   "source": [
    "from numpy import random\n",
    "import matplotlib.pyplot as plt\n",
    "import seaborn as sns\n",
    "\n",
    "sns.distplot(random.pareto(a=2, size=1000), kde=False)\n",
    "\n",
    "plt.show()"
   ]
  },
  {
   "cell_type": "markdown",
   "id": "65882a4b",
   "metadata": {},
   "source": [
    "## Zipf Distribution\n",
    "Zipf distributions are used to sample data based on zipf's law.\n",
    "\n",
    "Zipf's Law: In a collection, the nth common term is 1/n times of the most common term. E.g. the 5th most common word in English occurs nearly 1/5 times as often as the most common word.\n",
    "\n",
    "It has two parameters:\n",
    "\n",
    "a - distribution parameter.\n",
    "\n",
    "size - The shape of the returned array."
   ]
  },
  {
   "cell_type": "code",
   "execution_count": 18,
   "id": "6632fd17",
   "metadata": {},
   "outputs": [
    {
     "name": "stdout",
     "output_type": "stream",
     "text": [
      "[[7 1 1]\n",
      " [5 6 1]]\n"
     ]
    }
   ],
   "source": [
    "#Draw out a sample for zipf distribution with distribution parameter 2 with size 2x3:\n",
    "\n",
    "from numpy import random\n",
    "\n",
    "x = random.zipf(a=2, size=(2, 3))\n",
    "\n",
    "print(x)"
   ]
  },
  {
   "cell_type": "code",
   "execution_count": 19,
   "id": "9d04e539",
   "metadata": {},
   "outputs": [
    {
     "name": "stderr",
     "output_type": "stream",
     "text": [
      "C:\\Users\\comps\\AppData\\Local\\Temp\\ipykernel_20912\\2938701724.py:8: UserWarning: \n",
      "\n",
      "`distplot` is a deprecated function and will be removed in seaborn v0.14.0.\n",
      "\n",
      "Please adapt your code to use either `displot` (a figure-level function with\n",
      "similar flexibility) or `histplot` (an axes-level function for histograms).\n",
      "\n",
      "For a guide to updating your code to use the new functions, please see\n",
      "https://gist.github.com/mwaskom/de44147ed2974457ad6372750bbe5751\n",
      "\n",
      "  sns.distplot(x[x<10], kde=False)\n"
     ]
    },
    {
     "data": {
      "image/png": "[encoded data removed]",
      "text/plain": [
       "<Figure size 640x480 with 1 Axes>"
      ]
     },
     "metadata": {},
     "output_type": "display_data"
    }
   ],
   "source": [
    "#Sample 1000 points but plotting only ones with value < 10 for more meaningful chart.\n",
    "\n",
    "from numpy import random\n",
    "import matplotlib.pyplot as plt\n",
    "import seaborn as sns\n",
    "\n",
    "x = random.zipf(a=2, size=1000)\n",
    "sns.distplot(x[x<10], kde=False)\n",
    "\n",
    "plt.show()"
   ]
  },
  {
   "cell_type": "markdown",
   "id": "a1491f1d",
   "metadata": {},
   "source": [
    "# ufunc = universal function module  \n",
    "## numpy arithmatic function\n",
    "- numpy.add() function : It adds two arrays and returns the result.\n",
    "- numpy.subtract() function : Subtracts elements of array2 from array1 and returns the result.\n",
    "- numpy.multiply() function : Multiplies the elements of both the arrays and returns the product.\n",
    "- numpy.divide() function : Divides the array1 by array2 and returns the quotient of array values.\n",
    "- numpy.mod() function: Performs modulus operation and returns the remainder array.\n",
    "- numpy.power() function: Returns the exponential value of array1 ^ array2.\n",
    "- The divmod() function return both the quotient and the the mod. The return value is two arrays, the first array contains the quotient and second array contains the mod.\n",
    "- Both the absolute() and the abs() functions do the same absolute operation element-wise but we should use absolute() to avoid confusion with python's inbuilt math.abs()\n",
    "- numpy.sqrt: Compute the square root of each element in an array.\n",
    "- numpy.exp: Compute the exponential of each element in an array.\n",
    "- numpy.log: Compute the natural logarithm of each element in an array.\n",
    "- numpy.sin, numpy.cos, numpy.tan: Trigonometric functions.\n",
    "- numpy.arcsin, numpy.arccos, numpy.arctan: Inverse trigonometric functions\n",
    "\n",
    "## NumPy Statistical functions\n",
    "NumPy Statistical functions are very helpful in the domain of data mining and analysis of the huge amount of traits in the data.\n",
    "\n",
    "- numpy.median() : Calculates the median value of the passed array.\n",
    "- numpy.mean() : Returns the mean of the data values of the array.\n",
    "- numpy.average() : It returns the average of all the data values of the passed array.\n",
    "- numpy.std() : Calculates and returns the standard deviation of the data values of the array\n",
    "- amin, amax\treturns minimum or maximum of an array or along an axis\n",
    "- ptp\treturns range of values (maximum-minimum) of an array or along an axis\n",
    "- percentile(a, p, axis)\tcalculate pth percentile of array or along specified axis\n",
    "- var\tcompute variance of data along specified axis\n",
    "- average\tcompute average of data along specified axis\n",
    "\n",
    "## Rounding Decimals\n",
    "There are primarily five ways of rounding off decimals in NumPy:\n",
    "\n",
    "- truncation and fix = Remove the decimals, and return the float number closest to zero. Use the trunc() and fix() functions\n",
    "- Rounding- The around() function increments preceding digit or decimal by 1 if >=5 else do nothing.  \n",
    "\n",
    "- floor = The floor() function rounds off decimal to nearest lower integer.\n",
    "- ceil = The ceil() function rounds off decimal to nearest upper integer.\n",
    "\n"
   ]
  },
  {
   "cell_type": "code",
   "execution_count": 41,
   "id": "de8646ab",
   "metadata": {},
   "outputs": [
    {
     "name": "stdout",
     "output_type": "stream",
     "text": [
      "[ 7  9 11 13 15]\n",
      "[-5 -5 -5 -5 -5]\n",
      "[ 6 14 24 36 50]\n",
      "[0.16666667 0.28571429 0.375      0.44444444 0.5       ]\n",
      "[1 2 3 4 5]\n",
      "[      1     128    6561  262144 9765625]\n",
      "[1 2 1 2 3 4]\n"
     ]
    }
   ],
   "source": [
    "x = np.array([1,2,3,4,5]) \n",
    "y = np.array([6,7,8,9,10])\n",
    "\n",
    "print(np.add(x,y))\n",
    "print(np.subtract(x,y))\n",
    "print(np.multiply(x,y))\n",
    "print(np.divide(x,y))\n",
    "print(np.mod(x,y))\n",
    "print(np.power(x,y))\n",
    "\n",
    "\n",
    "arr = np.array([-1, -2, 1, 2, 3, -4])\n",
    "newarr = np.absolute(arr)\n",
    "print(newarr)"
   ]
  },
  {
   "cell_type": "code",
   "execution_count": 35,
   "id": "141855c6",
   "metadata": {},
   "outputs": [
    {
     "name": "stdout",
     "output_type": "stream",
     "text": [
      "Median value of array: \n",
      " 25.0\n",
      "Mean value of array: \n",
      " 29.0\n",
      "Average value of array: \n",
      " 29.0\n",
      "Standard deviation value of array: \n",
      " 20.2895703913776\n"
     ]
    }
   ],
   "source": [
    "import numpy as np \n",
    "x = np.array([10,20,30,4,50,60]) \n",
    " \n",
    "med = np.median(x)\n",
    "print(\"Median value of array: \\n\",med)\n",
    " \n",
    "mean = np.mean(x)\n",
    "print(\"Mean value of array: \\n\",mean)\n",
    " \n",
    "avg = np.average(x)\n",
    "print(\"Average value of array: \\n\",avg)\n",
    " \n",
    "std = np.std(x)\n",
    "print(\"Standard deviation value of array: \\n\",std)"
   ]
  },
  {
   "cell_type": "code",
   "execution_count": 37,
   "id": "6f5259bf",
   "metadata": {},
   "outputs": [
    {
     "name": "stdout",
     "output_type": "stream",
     "text": [
      "Minimum and maximum weight of the students: \n",
      "45.0 73.25\n",
      "Range of the weight of the students: \n",
      "28.25\n",
      "Weight below which 70 % student fall: \n",
      "55.317\n",
      "Mean weight of the students: \n",
      "54.3225\n",
      "Median weight of the students: \n",
      "51.6\n",
      "Standard deviation of weight of the students: \n",
      "8.052773978574091\n",
      "Variance of weight of the students: \n",
      "64.84716875\n",
      "Average weight of the students: \n",
      "54.3225\n"
     ]
    }
   ],
   "source": [
    "weight = np.array([50.7, 52.5, 50, 58, 55.63, 73.25, 49.5, 45])\n",
    "  \n",
    "# minimum and maximum \n",
    "print('Minimum and maximum weight of the students: ')\n",
    "print(np.amin(weight), np.amax(weight))\n",
    "  \n",
    "# range of weight i.e. max weight-min weight\n",
    "print('Range of the weight of the students: ')\n",
    "print(np.ptp(weight))\n",
    "  \n",
    "# percentile\n",
    "print('Weight below which 70 % student fall: ')\n",
    "print(np.percentile(weight, 70))\n",
    "   \n",
    "# mean \n",
    "print('Mean weight of the students: ')\n",
    "print(np.mean(weight))\n",
    "  \n",
    "# median \n",
    "print('Median weight of the students: ')\n",
    "print(np.median(weight))\n",
    "  \n",
    "# standard deviation \n",
    "print('Standard deviation of weight of the students: ')\n",
    "print(np.std(weight))\n",
    "  \n",
    "# variance \n",
    "print('Variance of weight of the students: ')\n",
    "print(np.var(weight))\n",
    "  \n",
    "# average \n",
    "print('Average weight of the students: ')\n",
    "print(np.average(weight))"
   ]
  },
  {
   "cell_type": "code",
   "execution_count": 46,
   "id": "c6aba484",
   "metadata": {},
   "outputs": [
    {
     "name": "stdout",
     "output_type": "stream",
     "text": [
      "[-3.  3.]\n",
      "[-3.  3.]\n",
      "3.17\n",
      "[-4.  3.]\n",
      "[-3.  4.]\n"
     ]
    }
   ],
   "source": [
    "arr = np.trunc([-3.1666, 3.6667])\n",
    "print(arr)\n",
    "\n",
    "arr = np.fix([-3.1666, 3.6667])\n",
    "print(arr)\n",
    "\n",
    "arr = np.around(3.1666, 2)\n",
    "print(arr)\n",
    "\n",
    "arr = np.floor([-3.1666, 3.6667])\n",
    "print(arr)\n",
    "\n",
    "arr = np.ceil([-3.1666, 3.6667])\n",
    "print(arr)"
   ]
  },
  {
   "cell_type": "markdown",
   "id": "737c7583",
   "metadata": {},
   "source": [
    "# numpy summations/ product / difference\n",
    "- What is the difference between summation and addition?\n",
    "\n",
    "- Addition is done between two arguments whereas summation happens over n elements.\n",
    "- Cummulative Sum = Cummulative sum means partially adding the elements in array.\n",
    "\n",
    "- E.g. The partial sum of [1, 2, 3, 4] would be [1, 1+2, 1+2+3, 1+2+3+4] = [1, 3, 6, 10].\n",
    "\n",
    "- add()\n",
    "- sum()\n",
    "- cumsum()"
   ]
  },
  {
   "cell_type": "code",
   "execution_count": 49,
   "id": "b3d4fa1d",
   "metadata": {},
   "outputs": [
    {
     "name": "stdout",
     "output_type": "stream",
     "text": [
      "[2 4 6]\n",
      "12\n",
      "[6 6]\n",
      "[1 3 6]\n",
      "-12.0\n",
      "36\n",
      "[6 6]\n",
      "[1 2 6]\n"
     ]
    }
   ],
   "source": [
    "arr1 = np.array([1, 2, 3])\n",
    "arr2 = np.array([1, 2, 3])\n",
    "\n",
    "print(np.add(arr1, arr2))\n",
    "print(np.sum([arr1, arr2]))\n",
    "print(np.sum([arr1, arr2], axis=1))\n",
    "print( np.cumsum(arr1))\n",
    "\n",
    "print( np.prod(arr))\n",
    "print(np.prod([arr1, arr2]))\n",
    "print(np.prod([arr1, arr2], axis=1))\n",
    "print(np.cumprod(arr1))"
   ]
  },
  {
   "cell_type": "markdown",
   "id": "423791ba",
   "metadata": {},
   "source": [
    "# LCM \n",
    "-The Lowest Common Multiple is the smallest number that is a common multiple of two numbers.\n",
    "- To find the Lowest Common Multiple of all values in an array, you can use the reduce() method\n",
    "\n",
    "\n",
    "# GCD /HCF"
   ]
  },
  {
   "cell_type": "code",
   "execution_count": 53,
   "id": "20fbe05c",
   "metadata": {},
   "outputs": [
    {
     "name": "stdout",
     "output_type": "stream",
     "text": [
      "12\n",
      "2\n",
      "1440\n",
      "4\n"
     ]
    }
   ],
   "source": [
    "num1 = 4\n",
    "num2 = 6\n",
    "print(np.lcm(num1, num2))\n",
    "print( np.gcd(num1, num2))\n",
    "\n",
    "arr = np.array([20, 8, 32, 36, 16])\n",
    "print(np.lcm.reduce(arr))\n",
    "print(np.gcd.reduce(arr))"
   ]
  },
  {
   "cell_type": "markdown",
   "id": "02639f11",
   "metadata": {},
   "source": [
    "# linear algebra (linalg) module"
   ]
  },
  {
   "cell_type": "markdown",
   "id": "0f5db117",
   "metadata": {},
   "source": [
    "### np.linalg.solve()\n",
    "- Solving Linear equationsTo solve the equations, we use the solve() function in the NumPy linalg subpackage"
   ]
  },
  {
   "cell_type": "code",
   "execution_count": 95,
   "id": "5cd45bcd",
   "metadata": {},
   "outputs": [
    {
     "name": "stdout",
     "output_type": "stream",
     "text": [
      "[ 1.00000000e+01 -1.85037171e-16]\n"
     ]
    }
   ],
   "source": [
    "# 2x +10y = 20\n",
    "# 5x + 10y = 50\n",
    "\n",
    "a = np.array([[2,10],[5,10]])\n",
    "b = np.array([20,50])\n",
    "result = np.linalg.solve(a,b)\n",
    "print(result)"
   ]
  },
  {
   "cell_type": "code",
   "execution_count": 100,
   "id": "63b2246f",
   "metadata": {},
   "outputs": [
    {
     "name": "stdout",
     "output_type": "stream",
     "text": [
      "[0.6        0.68571429 2.71428571]\n"
     ]
    }
   ],
   "source": [
    "#-3x + 2y -  5z = -14\n",
    "#2x -  3y + 4z = 10\n",
    "#x + y + z = 4\n",
    "import numpy as np\n",
    "A = np.array([[-3,2,-5],[2,-3,4],[1,1,1]])\n",
    "B = np.array([-14,10,4])\n",
    "C = np.linalg.solve(A,B)\n",
    "print(C)\n"
   ]
  },
  {
   "cell_type": "markdown",
   "id": "a1ce6132",
   "metadata": {},
   "source": [
    "### Dot Product\n",
    "- dot():It is used to calculate the dot product oftwo arrays.\n",
    "- Two arrays a(x,y) and b(z,w) are compatible for dot product if y=z and the shape ofresultant array is (x,w)"
   ]
  },
  {
   "cell_type": "code",
   "execution_count": 102,
   "id": "18e455a4",
   "metadata": {},
   "outputs": [
    {
     "name": "stdout",
     "output_type": "stream",
     "text": [
      "(3, 3)\n",
      "(3, 2)\n",
      "[[18 17]\n",
      " [23  4]\n",
      " [ 9  9]]\n",
      "(3, 2)\n"
     ]
    }
   ],
   "source": [
    "A = np.array([[-3,2,5],[2,-3,4],[1,1,1]])\n",
    "print(A.shape)    #(3,3)\n",
    "\n",
    "B = np.array ([[3,2],[1,4],[5,3]])\n",
    "print(B.shape)     #(3,2)\n",
    "\n",
    "C = np.dot(A,B)\n",
    "print(C)              \n",
    "print(C.shape)       #(3,2)\n",
    "\n",
    "D = np.dot(B,A)     #It will not be possible to find the dot product of the matrix."
   ]
  },
  {
   "cell_type": "markdown",
   "id": "29e95998",
   "metadata": {},
   "source": [
    "## inverse matrix\n",
    "\n",
    "- The inverse of a square matrix A,is a matrix A-1 such that AA-1= I \n",
    "- where I is the identity matrix and AA-1 is dot product between A and A-1\n",
    "- Identity Matrix: A matrix where the primary diagonal elements are 1 and the remainingelements are 0      (notbook\n",
    "- Primary diagonal: In a square matrix elements starting from top left to the botton right constitute primary diagonal elements \n",
    "- numpy.linalg.inv() functionis used to calculate the multiplicative inverse of the input matrix.\n"
   ]
  },
  {
   "cell_type": "code",
   "execution_count": 103,
   "id": "b8ba8676",
   "metadata": {},
   "outputs": [
    {
     "name": "stdout",
     "output_type": "stream",
     "text": [
      "Inverse:\n",
      " [[-0.33333333  0.33333333]\n",
      " [ 0.16666667 -0.06666667]]\n"
     ]
    }
   ],
   "source": [
    "A = np.array([[2,10],[5,10]])\n",
    "B = np.linalg.inv(A)\n",
    "print(\"Inverse:\\n\",B)"
   ]
  },
  {
   "cell_type": "code",
   "execution_count": 104,
   "id": "af4dc3b7",
   "metadata": {},
   "outputs": [
    {
     "name": "stdout",
     "output_type": "stream",
     "text": [
      "Inverse:\n",
      " [[-5.40431955e+15 -5.40431955e+15 -5.40431955e+15]\n",
      " [ 1.54409130e+15  1.54409130e+15  1.54409130e+15]\n",
      " [ 3.86022825e+15  3.86022825e+15  3.86022825e+15]]\n"
     ]
    }
   ],
   "source": [
    "A = np.array([[-3,2,-5],[2,-3,4],[1,1,1]])\n",
    "B = np.linalg.inv(A)\n",
    "print(\"Inverse:\\n\",B)"
   ]
  },
  {
   "cell_type": "markdown",
   "id": "7b537837",
   "metadata": {},
   "source": [
    "## Trace \n",
    " - it is the sum of primary diagonal elements \n",
    " "
   ]
  },
  {
   "cell_type": "code",
   "execution_count": 106,
   "id": "4302031b",
   "metadata": {},
   "outputs": [
    {
     "name": "stdout",
     "output_type": "stream",
     "text": [
      "[[1 2 3]\n",
      " [4 5 6]\n",
      " [7 8 9]]\n",
      "15\n"
     ]
    }
   ],
   "source": [
    "a = np.array([[1,2,3],[4,5,6],[7,8,9]])\n",
    "print(a)\n",
    "\n",
    "print(np.trace(a))     #1+5+9 = 15"
   ]
  },
  {
   "cell_type": "markdown",
   "id": "fd995ef8",
   "metadata": {},
   "source": [
    "## Determinant  of matrix\n",
    "- The numpy.linalg.det() function is used to calculate the determinant of the matrix"
   ]
  },
  {
   "cell_type": "code",
   "execution_count": 108,
   "id": "b51afa25",
   "metadata": {},
   "outputs": [
    {
     "name": "stdout",
     "output_type": "stream",
     "text": [
      "[[5 3]\n",
      " [2 4]]\n",
      "13.999999999999996\n",
      "14\n"
     ]
    }
   ],
   "source": [
    "w = np.array([[5,3],[2,4]])\n",
    "print(w)\n",
    "\n",
    "det =np.linalg.det(w) \n",
    "print(det)\n",
    "print(round(det))"
   ]
  },
  {
   "cell_type": "markdown",
   "id": "65620dd1",
   "metadata": {},
   "source": [
    "### Eigenvalues and Eigenvector\n",
    "- Eigenvalues and eigenvectors are defined only for square matrices.\n",
    "- An eigenvalue of matrix A is a scalar λ such that the equation Av=λv has a nontrivial solution. solution.\n",
    "-  An eigenvector of matrix A is a nonzero vector v such that Av=λv,for some scalar λ.\n",
    "- Eigenvectors are by definition nonzero. -\n",
    "- Eigenvalues may be equal to zero.\n",
    "- Av = λv \n",
    "-where\n",
    "- A = is the square matrix\n",
    "- λ = Eigenvalue\n",
    "- v = Eigenvectors3\n",
    "\n",
    "Av = λIv\n",
    "●Av - λIv = 0\n",
    "●v(A-λI) = 0\n",
    "●If v is non_zero, then det((A-λI)) = 0\n"
   ]
  },
  {
   "cell_type": "code",
   "execution_count": 110,
   "id": "e515ba0e",
   "metadata": {},
   "outputs": [
    {
     "name": "stdout",
     "output_type": "stream",
     "text": [
      "\n",
      " Eigen values\n",
      " [13.74647899  2.80669471 -8.5531737 ]\n",
      "\n",
      " Eigen vector\n",
      " [[-0.45401311 -0.62148913  0.34643359]\n",
      " [-0.54426207  0.09763336 -0.84903097]\n",
      " [-0.70544376  0.77731525  0.39891125]]\n"
     ]
    }
   ],
   "source": [
    "A = np.array([[5, 6, 1],[8, -2, 7],[4, 8, 5]])\n",
    "\n",
    "eig_val,eig_vec = np.linalg.eig(A)\n",
    "print('\\n Eigen values\\n',eig_val)\n",
    "print('\\n Eigen vector\\n',eig_vec)\n"
   ]
  },
  {
   "cell_type": "markdown",
   "id": "5170fbd6",
   "metadata": {},
   "source": [
    "## how to create matrix \n",
    "\n",
    "- matrix = a matrix is 2-D data str where data is arranged in rows and columns \n",
    "\n",
    "- syntax = np.matrix(nested list)\n",
    "- no of nested list reperesent no of row ,column represent no of elemnt in list\n"
   ]
  },
  {
   "cell_type": "code",
   "execution_count": 111,
   "id": "4d082b25",
   "metadata": {},
   "outputs": [
    {
     "name": "stdout",
     "output_type": "stream",
     "text": [
      "[[1 2 3]\n",
      " [4 5 6]]\n"
     ]
    }
   ],
   "source": [
    "mat = np.matrix([[1,2,3],[4,5,6]])\n",
    "print(mat)"
   ]
  },
  {
   "cell_type": "markdown",
   "id": "f0afd672",
   "metadata": {},
   "source": [
    "## transform Matrix \n",
    "- is obtaned by moving the rows data to column data to row .\n",
    "- change in shape   = (x,y) become (y,x"
   ]
  },
  {
   "cell_type": "code",
   "execution_count": 112,
   "id": "2b552e0c",
   "metadata": {},
   "outputs": [
    {
     "name": "stdout",
     "output_type": "stream",
     "text": [
      "[[1 4]\n",
      " [2 5]\n",
      " [3 6]]\n"
     ]
    }
   ],
   "source": [
    "mat = np.matrix([[1,2,3],[4,5,6]])\n",
    "trans = mat.T\n",
    "print(trans)"
   ]
  },
  {
   "cell_type": "markdown",
   "id": "7923becc",
   "metadata": {},
   "source": [
    "## Square Matrix \n",
    " - n*n matrix \n",
    " - 2x2 = no of rows = no of columns \n",
    " "
   ]
  },
  {
   "cell_type": "code",
   "execution_count": 113,
   "id": "db409c63",
   "metadata": {},
   "outputs": [
    {
     "name": "stdout",
     "output_type": "stream",
     "text": [
      "[[1 2]\n",
      " [4 5]]\n"
     ]
    }
   ],
   "source": [
    "mat = np.matrix([[1,2],[4,5]])\n",
    "print(mat)"
   ]
  },
  {
   "cell_type": "markdown",
   "id": "673bddcf",
   "metadata": {},
   "source": [
    "## identity matrix \n",
    "- matrix with diagonal elemnt only and rest of elemnt are 0\n"
   ]
  },
  {
   "cell_type": "code",
   "execution_count": 114,
   "id": "3b65b09f",
   "metadata": {},
   "outputs": [
    {
     "name": "stdout",
     "output_type": "stream",
     "text": [
      "[[1 0 0]\n",
      " [0 1 0]\n",
      " [0 0 1]]\n"
     ]
    }
   ],
   "source": [
    "arr = np.eye(3,dtype = 'int')\n",
    "print(arr)"
   ]
  },
  {
   "cell_type": "code",
   "execution_count": 115,
   "id": "d9d679c9",
   "metadata": {},
   "outputs": [
    {
     "name": "stdout",
     "output_type": "stream",
     "text": [
      "[[23  0  0]\n",
      " [ 0 45  0]\n",
      " [ 0  0 78]]\n"
     ]
    }
   ],
   "source": [
    "# fetch diagonal elemnt \n",
    "\n",
    "arr = np.diag([23,45,78])\n",
    "print(arr)"
   ]
  }
 ],
 "metadata": {
  "kernelspec": {
   "display_name": "Python 3 (ipykernel)",
   "language": "python",
   "name": "python3"
  },
  "language_info": {
   "codemirror_mode": {
    "name": "ipython",
    "version": 3
   },
   "file_extension": ".py",
   "mimetype": "text/x-python",
   "name": "python",
   "nbconvert_exporter": "python",
   "pygments_lexer": "ipython3",
   "version": "3.10.9"
  }
 },
 "nbformat": 4,
 "nbformat_minor": 5
}
